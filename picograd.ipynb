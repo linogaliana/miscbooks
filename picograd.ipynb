{
 "cells": [
  {
   "cell_type": "markdown",
   "id": "8ba7a7f4-5e62-4b87-b4e3-77b148f0b5d7",
   "metadata": {},
   "source": [
    "# ...\n",
    "\n",
    "https://www.youtube.com/watch?v=VMj-3S1tku0"
   ]
  },
  {
   "cell_type": "code",
   "execution_count": 3,
   "id": "8f001f75-5841-40cf-8e6a-f12c88819de0",
   "metadata": {},
   "outputs": [],
   "source": [
    "import math\n",
    "import numpy as np\n",
    "import matplotlib.pyplot as plt\n",
    "\n",
    "%matplotlib inline"
   ]
  },
  {
   "cell_type": "code",
   "execution_count": 4,
   "id": "d089a975-b752-4da6-8fa0-8038e1437078",
   "metadata": {},
   "outputs": [],
   "source": [
    "def f(x):\n",
    "    return 3*x**2 + - 4*x + 5"
   ]
  },
  {
   "cell_type": "code",
   "execution_count": 5,
   "id": "3dfa62b6-f3b9-45ce-ad98-c84e361f93be",
   "metadata": {},
   "outputs": [
    {
     "data": {
      "text/plain": [
       "20.0"
      ]
     },
     "execution_count": 5,
     "metadata": {},
     "output_type": "execute_result"
    }
   ],
   "source": [
    "f(3.0)"
   ]
  },
  {
   "cell_type": "code",
   "execution_count": 6,
   "id": "de1687fb-a903-4375-8b72-da4916f5834d",
   "metadata": {},
   "outputs": [
    {
     "data": {
      "text/plain": [
       "[<matplotlib.lines.Line2D at 0x7f66571a6b20>]"
      ]
     },
     "execution_count": 6,
     "metadata": {},
     "output_type": "execute_result"
    },
    {
     "data": {
      "image/png": "[encoded data removed]",
      "text/plain": [
       "<Figure size 640x480 with 1 Axes>"
      ]
     },
     "metadata": {},
     "output_type": "display_data"
    }
   ],
   "source": [
    "xs = np.arange(-10, 10, 0.5)\n",
    "ys = f(xs) # works because it's a np array ?!?\n",
    "\n",
    "plt.plot(xs, ys)"
   ]
  },
  {
   "cell_type": "code",
   "execution_count": 7,
   "id": "e3ea6a64-a5cc-433e-b328-c02a34c1069e",
   "metadata": {},
   "outputs": [
    {
     "data": {
      "text/plain": [
       "14.000003002223593"
      ]
     },
     "execution_count": 7,
     "metadata": {},
     "output_type": "execute_result"
    }
   ],
   "source": [
    "# approximation de la pente\n",
    "h = 0.000001\n",
    "x = 3 # try with other numbers, -3, 2/4, etc.\n",
    "\n",
    "(f(x + h) - f(x)) / h # ~ 14, la dérivée de 3x^^2 - 4x + 5 est 6x - 4, donc pour 3 → 14"
   ]
  },
  {
   "cell_type": "code",
   "execution_count": 8,
   "id": "42f5dc44-8710-4539-b756-4af1baa566a8",
   "metadata": {},
   "outputs": [
    {
     "name": "stdout",
     "output_type": "stream",
     "text": [
      "4.0\n"
     ]
    }
   ],
   "source": [
    "a = 2.0\n",
    "b = -3.0\n",
    "c = 10.0\n",
    "d = a*b + c\n",
    "print(d)"
   ]
  },
  {
   "cell_type": "code",
   "execution_count": 19,
   "id": "0bfb39a4-6b67-4612-acf4-47756a8c1c5b",
   "metadata": {},
   "outputs": [],
   "source": [
    "from graphviz import Digraph\n",
    "\n",
    "def trace(root):\n",
    "  # builds a set of all nodes and edges in a graph\n",
    "  nodes, edges = set(), set()\n",
    "  def build(v):\n",
    "    if v not in nodes:\n",
    "      nodes.add(v)\n",
    "      for child in v._prev:\n",
    "        edges.add((child, v))\n",
    "        build(child)\n",
    "  build(root)\n",
    "  return nodes, edges\n",
    "\n",
    "def draw_dot(root):\n",
    "  dot = Digraph(format='svg', graph_attr={'rankdir': 'LR'}) # LR = left to right\n",
    "  \n",
    "  nodes, edges = trace(root)\n",
    "  for n in nodes:\n",
    "    uid = str(id(n))\n",
    "    # for any value in the graph, create a rectangular ('record') node for it\n",
    "    dot.node(name = uid, label = \"{ %s | data %.4f | grad %.4f }\" % (n.label, n.data, n.grad), shape='record')\n",
    "    if n._op:\n",
    "      # if this value is a result of some operation, create an op node for it\n",
    "      dot.node(name = uid + n._op, label = n._op)\n",
    "      # and connect this node to it\n",
    "      dot.edge(uid + n._op, uid)\n",
    "\n",
    "  for n1, n2 in edges:\n",
    "    # connect n1 to the op node of n2\n",
    "    dot.edge(str(id(n1)), str(id(n2)) + n2._op)\n",
    "\n",
    "  return dot"
   ]
  },
  {
   "cell_type": "code",
   "execution_count": 9,
   "id": "6b8d1e30-e4bb-4068-9f2c-d6614a72aa84",
   "metadata": {},
   "outputs": [
    {
     "name": "stdout",
     "output_type": "stream",
     "text": [
      "slope is  -3.000000000064062\n"
     ]
    }
   ],
   "source": [
    "# Manually derive :)\n",
    "\n",
    "h = 0.00001\n",
    "d1 = a * b + c\n",
    "# updating a\n",
    "a += h\n",
    "d2 = a * b + c\n",
    "\n",
    "print(\"slope is \", (d2 - d1) / h)"
   ]
  },
  {
   "cell_type": "code",
   "execution_count": 22,
   "id": "26c80234-6b05-4d2a-bd33-4057e4efb8c3",
   "metadata": {},
   "outputs": [],
   "source": [
    "class Value:\n",
    "    \n",
    "    def __init__(self, data, _children=(), _op=\"\", label=\"\"):\n",
    "        self.data = data\n",
    "        self.grad = 0.0\n",
    "        self._prev = set(_children)\n",
    "        self._op = _op\n",
    "        self.label = label\n",
    "    \n",
    "    def __repr__(self):\n",
    "        return f\"Value(data={self.data}, label='{self.label}')\"\n",
    "    \n",
    "    def __add__(self, other):\n",
    "        return Value(self.data + other.data, _children=(self, other), _op=\"+\")\n",
    "    \n",
    "    def __mul__(self, other):\n",
    "        return Value(self.data * other.data,  _children=(self, other), _op=\"*\")"
   ]
  },
  {
   "cell_type": "code",
   "execution_count": 24,
   "id": "d646260f-d2cd-4417-8bfe-2c004e815e70",
   "metadata": {},
   "outputs": [
    {
     "name": "stdout",
     "output_type": "stream",
     "text": [
      "Value(data=4.0, label='e')\n",
      "{Value(data=-6.0, label='d'), Value(data=10.0, label='c')}\n",
      "+\n"
     ]
    }
   ],
   "source": [
    "a = Value(2.0, label=\"a\")\n",
    "b = Value(-3.0, label=\"b\")\n",
    "c = Value(10.0, label=\"c\")\n",
    "d = a * b; d.label = \"d\"\n",
    "e = d + c; e.label = \"e\"\n",
    "f = Value(-2.0, label=\"f\")\n",
    "L = d * f; L.label=\"L\"\n",
    "print(e)\n",
    "print(e._prev)\n",
    "print(e._op)"
   ]
  },
  {
   "cell_type": "code",
   "execution_count": 27,
   "id": "e23e2b9c-092c-4422-8b0f-f3e305cd63f1",
   "metadata": {},
   "outputs": [],
   "source": [
    "# For visualisation, see the graphviz code used in the video\n",
    "# FIXME missing graphviz binaries!\n",
    "## draw_dot(L)"
   ]
  },
  {
   "cell_type": "markdown",
   "id": "9c8bec3f-7ae5-4062-abe5-9b0e3e0cee4d",
   "metadata": {},
   "source": [
    "# STOPPED AT 35"
   ]
  }
 ],
 "metadata": {
  "kernelspec": {
   "display_name": "Python 3 (ipykernel)",
   "language": "python",
   "name": "python3"
  },
  "language_info": {
   "codemirror_mode": {
    "name": "ipython",
    "version": 3
   },
   "file_extension": ".py",
   "mimetype": "text/x-python",
   "name": "python",
   "nbconvert_exporter": "python",
   "pygments_lexer": "ipython3",
   "version": "3.9.0"
  }
 },
 "nbformat": 4,
 "nbformat_minor": 5
}
