{
 "cells": [
  {
   "cell_type": "markdown",
   "id": "8252c516-28ed-40ae-90c2-4c8d715c4f1f",
   "metadata": {},
   "source": [
    "# Numpy basics\n",
    "\n",
    "https://wesmckinney.com/book/numpy-basics.html"
   ]
  },
  {
   "cell_type": "code",
   "execution_count": 45,
   "id": "ed146f3a-2ca0-4e93-97c7-3a407421e3e6",
   "metadata": {},
   "outputs": [],
   "source": [
    "import numpy as np\n",
    "from functools import reduce\n",
    "from random import randint\n",
    "from pprint import pprint"
   ]
  },
  {
   "cell_type": "markdown",
   "id": "ff33730d-fe01-4e3a-bacc-3922971b64b0",
   "metadata": {
    "tags": []
   },
   "source": [
    "# Perfs\n",
    "\n",
    "Numpy array vs Python list for large sequences."
   ]
  },
  {
   "cell_type": "code",
   "execution_count": 5,
   "id": "f93d0f39-ab72-4301-85e3-e57b9bddfba7",
   "metadata": {},
   "outputs": [
    {
     "name": "stdout",
     "output_type": "stream",
     "text": [
      "740 µs ± 18.5 µs per loop (mean ± std. dev. of 7 runs, 1,000 loops each)\n",
      "68.1 ms ± 3.69 ms per loop (mean ± std. dev. of 7 runs, 10 loops each)\n"
     ]
    }
   ],
   "source": [
    "size = 1_000_000\n",
    "np_arr = np.arange(size)\n",
    "py_arr = list(range(size))\n",
    "\n",
    "%timeit np_arr_2 = np_arr * 2\n",
    "%timeit py_arr_2 = [item * 2 for item in py_arr]"
   ]
  },
  {
   "cell_type": "markdown",
   "id": "ab995a57-1ad3-48cd-b442-10133a799e3c",
   "metadata": {},
   "source": [
    "# Array"
   ]
  },
  {
   "cell_type": "code",
   "execution_count": 7,
   "id": "29f5c552-f0c7-492b-b8d6-7d6616581d5e",
   "metadata": {},
   "outputs": [
    {
     "data": {
      "text/plain": [
       "dtype('float64')"
      ]
     },
     "execution_count": 7,
     "metadata": {},
     "output_type": "execute_result"
    }
   ],
   "source": [
    "floats_list = [6, 7.5, 8, 0, 1]\n",
    "floats_array = np.array(floats_list)\n",
    "floats_array.dtype"
   ]
  },
  {
   "cell_type": "code",
   "execution_count": 16,
   "id": "926cbe3d-3488-4919-916b-870637ab8de7",
   "metadata": {},
   "outputs": [
    {
     "data": {
      "text/plain": [
       "dtype('int64')"
      ]
     },
     "execution_count": 16,
     "metadata": {},
     "output_type": "execute_result"
    }
   ],
   "source": [
    "int_array = np.array([[2,5,8,4], [45,9,9,3]])\n",
    "int_array.dtype"
   ]
  },
  {
   "cell_type": "code",
   "execution_count": 18,
   "id": "090e4a86-f8f6-4a85-982a-b01005280576",
   "metadata": {},
   "outputs": [
    {
     "data": {
      "text/plain": [
       "'Dimensions: 2 - Shape: (2, 4)'"
      ]
     },
     "execution_count": 18,
     "metadata": {},
     "output_type": "execute_result"
    }
   ],
   "source": [
    "f\"Dimensions: {int_array.ndim} - Shape: {int_array.shape}\""
   ]
  },
  {
   "cell_type": "markdown",
   "id": "ec984d38-5c96-42e9-a0ba-1f365d5ccbe4",
   "metadata": {},
   "source": [
    "# Numerical operations\n",
    "\n",
    "Including _broadcasting_."
   ]
  },
  {
   "cell_type": "code",
   "execution_count": 47,
   "id": "8c9fbfab-a431-4d60-98d3-9826722b38a7",
   "metadata": {},
   "outputs": [
    {
     "name": "stdout",
     "output_type": "stream",
     "text": [
      "array([40, 61,  7, 62, 64, 23, 68, 96, 81, 40])\n",
      "array([53, 81, 64, 75, 28, 12, 13, 11, 61, 66])\n"
     ]
    },
    {
     "data": {
      "text/plain": [
       "array([False, False, False, False,  True,  True,  True,  True,  True,\n",
       "       False])"
      ]
     },
     "execution_count": 47,
     "metadata": {},
     "output_type": "execute_result"
    }
   ],
   "source": [
    "arr = np.array([list(range(1, 10)), list(range(1, 10))])\n",
    "\n",
    "arr_add = arr + arr\n",
    "arr_mult = arr * arr\n",
    "arr_norm = 1 / arr # this is broadcasting =)\n",
    "\n",
    "arr_string = arr_norm.astype(np.string_)\n",
    "\n",
    "arr_rand1 = np.array([randint(0,100) for _ in range(10)])\n",
    "arr_rand2 = np.array([randint(0,100) for _ in range(10)])\n",
    "\n",
    "pprint(arr_rand1)\n",
    "pprint(arr_rand2)\n",
    "\n",
    "arr_rand1 > arr_rand2"
   ]
  }
 ],
 "metadata": {
  "kernelspec": {
   "display_name": "Python 3 (ipykernel)",
   "language": "python",
   "name": "python3"
  },
  "language_info": {
   "codemirror_mode": {
    "name": "ipython",
    "version": 3
   },
   "file_extension": ".py",
   "mimetype": "text/x-python",
   "name": "python",
   "nbconvert_exporter": "python",
   "pygments_lexer": "ipython3",
   "version": "3.9.12"
  }
 },
 "nbformat": 4,
 "nbformat_minor": 5
}
