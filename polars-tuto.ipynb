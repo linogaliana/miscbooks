{
  "cells": [
    {
      "cell_type": "markdown",
      "metadata": {},
      "source": [
        "# Prise en main de Polars\n",
        "\n",
        "`Polars` est un package `Python` permettant de manipuler les données\n",
        "tabulaires à partir de différents types de fichiers (CSV, Parquet,\n",
        "etc.). Il est une alternative directe et moderne à `Pandas`, pensée pour\n",
        "être très performante tout en offrant une syntaxe compréhensible à pour\n",
        "des *data scientists* habitués à d’autres *frameworks* de manipulation\n",
        "de données comme `dplyr`.\n",
        "\n",
        "Ce notebook offre un complément à\n",
        "l’[article](https://ssphub.netlify.app/post/polars/) publié sur le blog\n",
        "du réseau des data scientists de la statistique publique. Les exemples\n",
        "sont reproductibles dans de nombreux environnements, à condition\n",
        "d’installer les packages comme indiqué ci-dessous. Les utilisateurs du\n",
        "SSP Cloud ou de Colab pourront directement ouvrir ce notebook en\n",
        "utilisant les boutons suivants:\n",
        "\n",
        "<a href=\"https://datalab.sspcloud.fr/launcher/ide/jupyter-python?autoLaunch=true&amp;onyxia.friendlyName=%C2%ABpython-datascience%C2%BB&amp;init.personalInit=%C2%ABhttps%3A%2F%2Fraw.githubusercontent.com%2Flinogaliana%2Fpython-datascientist%2Fmaster%2Fsspcloud%2Finit-jupyter.sh%C2%BB&amp;init.personalInitArgs=%C2%ABmanipulation%2002b_pandas_TP%C2%BB&amp;security.allowlist.enabled=false\" target=\"_blank\" rel=\"noopener\"><img src=\"https://img.shields.io/badge/SSPcloud-Tester%20via%20SSP--cloud-informational&amp;color=yellow?logo=Python\" alt=\"Onyxia\"></a>\n",
        "<a href=\"http://colab.research.google.com/github/romaintailhurat/miscbooks/blob/main/polars-tuto.ipynb\" target=\"_blank\" rel=\"noopener\"><img src=\"https://colab.research.google.com/assets/colab-badge.svg\" alt=\"Open In Colab\"></a>\n",
        "\n",
        "Les exemples fournis dans ce notebook utiliseront les données de la\n",
        "[base permanente des équipements\n",
        "(BPE)](https://www.insee.fr/fr/metadonnees/source/serie/s1161).\n",
        "\n",
        "Pour faire le parallèle avec les exemples pour [découvrir le `tidyverse`\n",
        "dans\n",
        "`utilitr`](https://www.book.utilitr.org/03_fiches_thematiques/fiche_tidyverse)),\n",
        "ce *notebook* exploite la [Base Permanente des Equipements\n",
        "(BPE)](https://www.insee.fr/fr/metadonnees/source/serie/s1161)."
      ],
      "id": "53c77481-1663-4b82-b8c2-469c2f1d8985"
    },
    {
      "cell_type": "code",
      "execution_count": 1,
      "metadata": {},
      "outputs": [],
      "source": [
        "import os\n",
        "import polars as pl\n",
        "import s3fs\n",
        "from pynsee.download import download_file"
      ],
      "id": "7f7ad4da-a689-49b8-8db1-e2fa9f529684"
    },
    {
      "cell_type": "markdown",
      "metadata": {},
      "source": [
        "<div class=\"alert alert-danger\" role=\"alert\">\n",
        "<i class=\"fa-solid fa-triangle-exclamation\"></i> Warning</h3>\n",
        "\n",
        "Outre `Polars`, ce notebook propose des compléments qui utilisent les\n",
        "packages [`s3fs`](https://s3fs.readthedocs.io/en/latest/) et\n",
        "[`Pynsee`](https://github.com/InseeFrLab/pynsee) pour, respectivement,\n",
        "interagir avec un espace de stockage distant de type `S3` et récupérer\n",
        "les données d’illustration sur le site\n",
        "[insee.fr](https://www.insee.fr/fr/accueil). `Pynsee` est nécessaire en\n",
        "début de *notebook* pour faciliter la récupération de la source de\n",
        "données utilisée. `s3fs` n’est nécessaire que pour faire tourner les\n",
        "exemples présents dans les encadrés proposant des détails\n",
        "supplémentaires ou alternatifs.\n",
        "\n",
        "``` python\n",
        "!pip install polars pynsee[full] s3fs\n",
        "```\n",
        "\n",
        "</div>"
      ],
      "id": "4d38d08f-30dc-47b4-8cfe-30df970ab85b"
    },
    {
      "cell_type": "markdown",
      "metadata": {},
      "source": [
        "# Lecture de données\n",
        "\n",
        "A partir d’un csv, il est possible de créer un `DataFrame` `Polars` de\n",
        "plusieurs manières :\n",
        "\n",
        "1.  Charger les données via `Pandas` puis les transformer en objet\n",
        "    `Polars`\n",
        "2.  Charger les données directement avec `Polars` via une fonction\n",
        "    `read_csv` qui fonctionne, en apparence, de la même manière que\n",
        "    celle de `Pandas`\n",
        "\n",
        "Ces deux approches sont présentées dans les prochaines parties.\n",
        "\n",
        "## A partir d’un objet `Pandas`\n",
        "\n",
        "Le *package* `Pynsee` fonctionne en deux temps pour créer un `DataFrame`\n",
        "`Pandas` à partir des données disponibles sur le site\n",
        "[insee.fr](https://www.insee.fr/fr/accueil) :\n",
        "\n",
        "1.  Récupération des données depuis le site\n",
        "    [insee.fr](https://www.insee.fr/fr/accueil) à partir des paramètres\n",
        "    de la fonction `download_file` (source, année…)\n",
        "2.  Import sous forme de `DataFrame` `Pandas` avec un typage pré-défini\n",
        "    dans le *package*, adapté à la source\n",
        "\n",
        "Pour récupérer des données via `Pynsee`, la fonction de référence est\n",
        "`download_file`:"
      ],
      "id": "64aaef92-e7b4-4e02-b2a5-c2ea7265415e"
    },
    {
      "cell_type": "code",
      "execution_count": 3,
      "metadata": {},
      "outputs": [],
      "source": [
        "pandas_df_bpe = download_file(\"BPE_ENS\", update = True)"
      ],
      "id": "9ba9e585-c55e-4893-a8a3-877116865eb2"
    },
    {
      "cell_type": "markdown",
      "metadata": {},
      "source": [
        "`Pynsee` renvoie un `DataFrame` `Pandas` correspondant à la source\n",
        "désiré :"
      ],
      "id": "b7f5c71f-572d-4f5d-8b40-be9d3ae8a376"
    },
    {
      "cell_type": "code",
      "execution_count": 4,
      "metadata": {},
      "outputs": [
        {
          "output_type": "display_data",
          "metadata": {},
          "data": {
            "text/plain": [
              "pandas.core.frame.DataFrame"
            ]
          }
        }
      ],
      "source": [
        "pandas_df_bpe.__class__"
      ],
      "id": "9503dddc-48d6-4103-b718-9fb264ef45d9"
    },
    {
      "cell_type": "markdown",
      "metadata": {},
      "source": [
        "<div class=\"alert alert-danger\" role=\"alert\">\n",
        "<i class=\"fa-solid fa-triangle-exclamation\"></i> Warning</h3>\n",
        "\n",
        "Ces deux étapes sont là pour éviter le téléchargement manuel du CSV.\n",
        "Elles pourraient être remplacées par un `pd.read_csv` vers un URL bien\n",
        "choisi. Cependant le typage des données pourrait ne pas être optimal.\n",
        "\n",
        "</div>"
      ],
      "id": "689977dd-3d1b-47ee-834b-1a864d4ad829"
    },
    {
      "cell_type": "markdown",
      "metadata": {},
      "source": [
        "La conversion d’un objet `Pandas` en `Polars` se fait via la méthode\n",
        "`from_pandas`:"
      ],
      "id": "1c2bfbc3-d7eb-4230-982f-21828e21ecb1"
    },
    {
      "cell_type": "code",
      "execution_count": 5,
      "metadata": {},
      "outputs": [],
      "source": [
        "df = pl.from_pandas(pandas_df_bpe)"
      ],
      "id": "e208776f-6191-4141-99db-5fbd3cf5ba2d"
    },
    {
      "cell_type": "markdown",
      "metadata": {},
      "source": [
        "Les `DataFrame` `Polars` apparaissent de manière différente des\n",
        "`DataFrame` `Pandas` dans la console ou dans le *display* de `Jupyter`:\n",
        "\n",
        "-   `pd.DataFrame`:"
      ],
      "id": "83871be3-a84c-4bf5-817a-51b430757fe9"
    },
    {
      "cell_type": "code",
      "execution_count": 6,
      "metadata": {},
      "outputs": [
        {
          "output_type": "display_data",
          "metadata": {},
          "data": {
            "text/html": [
              "<div>\n",
              "<style scoped>\n",
              "    .dataframe tbody tr th:only-of-type {\n",
              "        vertical-align: middle;\n",
              "    }\n",
              "\n",
              "    .dataframe tbody tr th {\n",
              "        vertical-align: top;\n",
              "    }\n",
              "\n",
              "    .dataframe thead th {\n",
              "        text-align: right;\n",
              "    }\n",
              "</style>\n",
              "<table border=\"1\" class=\"dataframe\">\n",
              "  <thead>\n",
              "    <tr style=\"text-align: right;\">\n",
              "      <th></th>\n",
              "      <th>AAV2020</th>\n",
              "      <th>AN</th>\n",
              "      <th>BV2012</th>\n",
              "      <th>DEP</th>\n",
              "      <th>DEPCOM</th>\n",
              "      <th>DOM</th>\n",
              "      <th>EPCI</th>\n",
              "      <th>DCIRIS</th>\n",
              "      <th>REG</th>\n",
              "      <th>SDOM</th>\n",
              "      <th>TYPEQU</th>\n",
              "      <th>UU2020</th>\n",
              "      <th>NB_EQUIP</th>\n",
              "    </tr>\n",
              "  </thead>\n",
              "  <tbody>\n",
              "    <tr>\n",
              "      <th>0</th>\n",
              "      <td>524</td>\n",
              "      <td>2021</td>\n",
              "      <td>01093</td>\n",
              "      <td>01</td>\n",
              "      <td>01001</td>\n",
              "      <td>A</td>\n",
              "      <td>200069193</td>\n",
              "      <td>010010000</td>\n",
              "      <td>84</td>\n",
              "      <td>A1</td>\n",
              "      <td>A129</td>\n",
              "      <td>CSZ</td>\n",
              "      <td>1</td>\n",
              "    </tr>\n",
              "    <tr>\n",
              "      <th>1</th>\n",
              "      <td>524</td>\n",
              "      <td>2021</td>\n",
              "      <td>01093</td>\n",
              "      <td>01</td>\n",
              "      <td>01001</td>\n",
              "      <td>A</td>\n",
              "      <td>200069193</td>\n",
              "      <td>010010000</td>\n",
              "      <td>84</td>\n",
              "      <td>A4</td>\n",
              "      <td>A401</td>\n",
              "      <td>CSZ</td>\n",
              "      <td>2</td>\n",
              "    </tr>\n",
              "  </tbody>\n",
              "</table>\n",
              "</div>"
            ]
          }
        }
      ],
      "source": [
        "pandas_df_bpe.head(2)"
      ],
      "id": "6840d22b-5fbf-40a8-aefa-3a4f9a1d293d"
    },
    {
      "cell_type": "markdown",
      "metadata": {},
      "source": [
        "-   `pl.DataFrame`:"
      ],
      "id": "ac5f6686-6942-42ea-8be6-ffb959696d50"
    },
    {
      "cell_type": "code",
      "execution_count": 7,
      "metadata": {},
      "outputs": [
        {
          "output_type": "display_data",
          "metadata": {},
          "data": {
            "text/html": [
              "<div><style>\n",
              ".dataframe > thead > tr > th,\n",
              ".dataframe > tbody > tr > td {\n",
              "  text-align: right;\n",
              "}\n",
              "</style>\n",
              "<small>shape: (2, 13)</small><table border=\"1\" class=\"dataframe\"><thead><tr><th>AAV2020</th><th>AN</th><th>BV2012</th><th>DEP</th><th>DEPCOM</th><th>DOM</th><th>EPCI</th><th>DCIRIS</th><th>REG</th><th>SDOM</th><th>TYPEQU</th><th>UU2020</th><th>NB_EQUIP</th></tr><tr><td>str</td><td>str</td><td>str</td><td>str</td><td>str</td><td>str</td><td>str</td><td>str</td><td>str</td><td>str</td><td>str</td><td>str</td><td>str</td></tr></thead><tbody><tr><td>&quot;524&quot;</td><td>&quot;2021&quot;</td><td>&quot;01093&quot;</td><td>&quot;01&quot;</td><td>&quot;01001&quot;</td><td>&quot;A&quot;</td><td>&quot;200069193&quot;</td><td>&quot;010010000&quot;</td><td>&quot;84&quot;</td><td>&quot;A1&quot;</td><td>&quot;A129&quot;</td><td>&quot;CSZ&quot;</td><td>&quot;1&quot;</td></tr><tr><td>&quot;524&quot;</td><td>&quot;2021&quot;</td><td>&quot;01093&quot;</td><td>&quot;01&quot;</td><td>&quot;01001&quot;</td><td>&quot;A&quot;</td><td>&quot;200069193&quot;</td><td>&quot;010010000&quot;</td><td>&quot;84&quot;</td><td>&quot;A4&quot;</td><td>&quot;A401&quot;</td><td>&quot;CSZ&quot;</td><td>&quot;2&quot;</td></tr></tbody></table></div>"
            ]
          }
        }
      ],
      "source": [
        "df.head(2)"
      ],
      "id": "30a106f0-1273-452c-8c77-2cf21b779dce"
    },
    {
      "cell_type": "markdown",
      "metadata": {},
      "source": [
        "On va écrire au format\n",
        "[Parquet](https://pythonds.linogaliana.fr/reads3/) ce `DataFrame` pour\n",
        "ensuite illustrer la lecture à partir de ce format, plus performant."
      ],
      "id": "3690247d-c1f0-49cf-af4f-c0cb92e68306"
    },
    {
      "cell_type": "code",
      "execution_count": 8,
      "metadata": {},
      "outputs": [],
      "source": [
        "df.write_parquet(\"bpe.parquet\")"
      ],
      "id": "bd37b1ba-d2b3-4e5e-9f2c-f7ed48c91bc4"
    },
    {
      "cell_type": "markdown",
      "metadata": {},
      "source": [
        "## En lecture directe depuis un CSV\n",
        "\n",
        "Pour faciliter l’usage des données de la [Base Permanente des\n",
        "Equipements\n",
        "(BPE)](https://www.insee.fr/fr/metadonnees/source/serie/s1161), une\n",
        "copie de la version 2019 disponible sur le site de l’Insee est mise à\n",
        "disposition, prête à l’emploi. Elle est disponible depuis l’URL :\n",
        "https://minio.lab.sspcloud.fr/donnees-insee/diffusion/BPE/2019/BPE_ENS.csv"
      ],
      "id": "2f94b1e4-5b4b-4428-a978-e7303f8cf0ee"
    },
    {
      "cell_type": "code",
      "execution_count": 9,
      "metadata": {},
      "outputs": [],
      "source": [
        "url = \"https://minio.lab.sspcloud.fr/donnees-insee/diffusion/BPE/2019/BPE_ENS.csv\"\n",
        "df_bpe = pl.read_csv(\n",
        "    url, sep = \";\",\n",
        "    dtypes={\n",
        "        \"DEP\": pl.Categorical,\n",
        "        \"DEPCOM\": pl.Categorical\n",
        "    })"
      ],
      "id": "7e501e64-a75b-4f75-86dc-bdb264af5d61"
    },
    {
      "cell_type": "markdown",
      "metadata": {},
      "source": [
        "L’option `dtypes` est ici nécessaire sous peine d’une erreur qu’on ne\n",
        "rencontrait pas avec `Pandas` car `Polars` est plus vigilant sur la\n",
        "nature piégeuse de certaines variables comme les numéros de départements\n",
        "français (qui sont tous numériques sauf les numéros Corse *“2A”* et\n",
        "*“2B”*) et demande à l’utilisateur de données de fixer le type de ces\n",
        "variables."
      ],
      "id": "2ec3c69e-fe76-4108-be3e-433a514c4dbd"
    },
    {
      "cell_type": "markdown",
      "metadata": {},
      "source": [
        "<div class=\"alert alert-info\" role=\"alert\" style=\"color: rgba(0,0,0,.8); background-color: white; margin-top: 1em; margin-bottom: 1em; margin:1.5625emauto; padding:0 .6rem .8rem!important;overflow:hidden; page-break-inside:avoid; border-radius:.25rem; box-shadow:0 .2rem .5rem rgba(0,0,0,.05),0 0 .05rem rgba(0,0,0,.1); transition:color .25s,background-color .25s,border-color .25s ; border-right: 1px solid #dee2e6 ; border-top: 1px solid #dee2e6 ; border-bottom: 1px solid #dee2e6 ; border-left:.2rem solid #007bff80;\">\n",
        "<h3 class=\"alert-heading\"><i class=\"fa fa-comment\"></i> Note</h3>\n",
        "\n",
        "Pour les utilisateurs du [SSP Cloud](https://www.sspcloud.fr/), il\n",
        "existe une méthode plus universelle pour récupérer des données\n",
        "disponibles depuis le système de stockage. La librairie `S3FS` permet de\n",
        "traiter le système de stockage S3 comme un *filesystem* (FS) local. Il\n",
        "est donc possible de directement lire depuis un CSV en passant par\n",
        "l’espace de stockage de la plateforme:\n",
        "\n",
        "``` python\n",
        "S3_ENDPOINT_URL = \"https://\" + os.environ[\"AWS_S3_ENDPOINT\"]\n",
        "fs = s3fs.S3FileSystem(client_kwargs={'endpoint_url': S3_ENDPOINT_URL})\n",
        "BUCKET = \"donnees-insee/diffusion/BPE/2019\"\n",
        "\n",
        "with fs.open(f\"{BUCKET}/BPE_ENS.csv\") as bpe_csv:\n",
        "    df_bpe = pl.read_csv(\n",
        "        bpe_csv, sep = \";\",\n",
        "        dtypes={\n",
        "            \"DEP\": pl.Categorical,\n",
        "            \"DEPCOM\": pl.Categorical\n",
        "            })\n",
        "    print(df_bpe.head())\n",
        "```\n",
        "\n",
        "    shape: (5, 7)\n",
        "    ┌─────┬─────┬────────┬────────┬──────┬────────┬──────────┐\n",
        "    │ REG ┆ DEP ┆ DEPCOM ┆ DCIRIS ┆ AN   ┆ TYPEQU ┆ NB_EQUIP │\n",
        "    │ --- ┆ --- ┆ ---    ┆ ---    ┆ ---  ┆ ---    ┆ ---      │\n",
        "    │ i64 ┆ cat ┆ cat    ┆ str    ┆ i64  ┆ str    ┆ i64      │\n",
        "    ╞═════╪═════╪════════╪════════╪══════╪════════╪══════════╡\n",
        "    │ 84  ┆ 01  ┆ 01001  ┆ 01001  ┆ 2019 ┆ A401   ┆ 2        │\n",
        "    │ 84  ┆ 01  ┆ 01001  ┆ 01001  ┆ 2019 ┆ A404   ┆ 4        │\n",
        "    │ 84  ┆ 01  ┆ 01001  ┆ 01001  ┆ 2019 ┆ A405   ┆ 2        │\n",
        "    │ 84  ┆ 01  ┆ 01001  ┆ 01001  ┆ 2019 ┆ A504   ┆ 1        │\n",
        "    │ 84  ┆ 01  ┆ 01001  ┆ 01001  ┆ 2019 ┆ A507   ┆ 1        │\n",
        "    └─────┴─────┴────────┴────────┴──────┴────────┴──────────┘\n",
        "\n",
        "</div>"
      ],
      "id": "878ebb7c-bf5f-4a39-a399-361c9653731a"
    },
    {
      "cell_type": "markdown",
      "metadata": {},
      "source": [
        "# Comment utiliser Polars ?\n",
        "\n",
        "Dans la suite de ce tutoriel, on va privilégier l’import depuis un\n",
        "fichier `Parquet`, plus performant et plus fiable grâce au typage des\n",
        "colonnes."
      ],
      "id": "459a1bc3-a4f3-491b-a970-1c8f89c6b083"
    },
    {
      "cell_type": "code",
      "execution_count": 11,
      "metadata": {},
      "outputs": [],
      "source": [
        "df_bpe = pl.read_parquet(\"bpe.parquet\")"
      ],
      "id": "82432536-7f74-4867-9ddb-ecfe0561c3da"
    },
    {
      "cell_type": "markdown",
      "metadata": {},
      "source": [
        "A l’instar d’autres outils modernes d’exploitation des données, `Polars`\n",
        "expose un modèle de traitement basé sur des fonctions de haut niveau,\n",
        "comme `select`, `filter` ou `groupby`, qui empruntent au langage SQL une\n",
        "logique expressive du *“quoi ?”* plutôt que du *“comment ?”*.\n",
        "\n",
        "La différence avec un package comme `Pandas` ou `dplyr` (`R`) est que\n",
        "`Polars` repose explicitement sur le principe de l’exécution retardée\n",
        "(*lazy evaluation*) qui consiste à optimiser le plan d’exécution fourni\n",
        "par l’utilisateur de données pour gagner en performance.\n",
        "\n",
        "Dans l’exemple qui suit, on commence par déclarer une exécution retardée\n",
        "(via `lazy()`) qui va permettre au moteur sous-jacent d’optimiser le\n",
        "traitement complet. Puis on exprime à l’aide des fonctions de haut\n",
        "niveau ce que l’on veut faire :\n",
        "\n",
        "1.  Filtrer le jeu de données pour ne garder les lignes pour lesquelles\n",
        "    la colonne `TYPEQU` vaut `B316` (les stations-services)\n",
        "2.  On regroupe au niveau département\n",
        "3.  On compte le nombre d’occurrences pour chaque département via `agg`\n",
        "4.  Le dernier appel - `collect()` - indique que le traitement peut être\n",
        "    lancé (et donc optimisé et parallelisé par `Polars`)."
      ],
      "id": "bc11aaf7-a4f7-47e5-be59-bb7bf86dd00d"
    },
    {
      "cell_type": "code",
      "execution_count": 12,
      "metadata": {},
      "outputs": [
        {
          "output_type": "display_data",
          "metadata": {},
          "data": {
            "text/html": [
              "<div><style>\n",
              ".dataframe > thead > tr > th,\n",
              ".dataframe > tbody > tr > td {\n",
              "  text-align: right;\n",
              "}\n",
              "</style>\n",
              "<small>shape: (5, 2)</small><table border=\"1\" class=\"dataframe\"><thead><tr><th>DEP</th><th>NB_STATION_SERVICE</th></tr><tr><td>str</td><td>u32</td></tr></thead><tbody><tr><td>&quot;31&quot;</td><td>155</td></tr><tr><td>&quot;89&quot;</td><td>59</td></tr><tr><td>&quot;10&quot;</td><td>48</td></tr><tr><td>&quot;67&quot;</td><td>123</td></tr><tr><td>&quot;09&quot;</td><td>24</td></tr></tbody></table></div>"
            ]
          }
        }
      ],
      "source": [
        "df_stations_service = df_bpe.lazy().filter( # 1.\n",
        "    pl.col(\"TYPEQU\") == \"B316\"\n",
        ").groupby( # 2.\n",
        "    \"DEP\"\n",
        ").agg( # 3.\n",
        "    pl.count().alias(\"NB_STATION_SERVICE\")\n",
        ").collect() # 4.\n",
        "\n",
        "df_stations_service.head(5)"
      ],
      "id": "6fad0707-0b35-4d49-9191-ec9c564d6319"
    },
    {
      "cell_type": "markdown",
      "metadata": {},
      "source": [
        "Du point de vue du code, la complexité induite par l’approche\n",
        "d’évaluation retardée est donc légère (un `lazy` en début de plan et un\n",
        "`collect` en fin de plan). Cependant, du point de vue de la performance,\n",
        "cela va amener énormément de gain car cela permettra à `Polars`\n",
        "d’optimiser l’ordre des opérations lorsque cela est possible pour gagner\n",
        "en performance. Par exemple, si une étape comme `filter` arrive\n",
        "tardivement, `Polars` peut être tenté de la faire intervenir plus tôt\n",
        "que l’étape à laquelle elle a été déclarée si c’est possible puisque\n",
        "traiter un *dataframe* allégé peut faire gagner beaucoup de temps.\n",
        "\n",
        "## Lazy or not lazy ?\n",
        "\n",
        "Les exemples qui suivent n’utilisent pas systématiquement la fonction\n",
        "`lazy()` avant les opérations sur le *dataframe* pour montrer\n",
        "l’alternative qui s’offre à l’utilisateur de `Polars`.\n",
        "\n",
        "Cependant, l’usage de cette fonction est recommandée en général et en\n",
        "particulier pour des traiements sur des tables volumineuses : en effet,\n",
        "le mode *lazy* permet au moteur sous-jacent d’optimiser les traitements\n",
        "et donc de gagner en rapidité (par exemple en parallélisant les\n",
        "calculs).\n",
        "\n",
        "## Les expressions\n",
        "\n",
        "Les\n",
        "[**expressions**](https://pola-rs.github.io/polars-book/user-guide/dsl/expressions.html)\n",
        "sont au coeur des transformations de données en `Polars`. A partir de\n",
        "l’exemple ci-dessous, on peut comprendre la nature d’une expression :\n",
        "\n",
        "    pl.col(\"A\").sort().head(2)\n",
        "\n",
        "-   `pl` est l’alias pour le module `Polars` ;\n",
        "-   `col(\"A\")` pointe vers la colonne *“A”* ;\n",
        "-   `sort()` est une fonction de tri à appliquer sur la colonne ;\n",
        "-   l’opération `head` va permettre de matérialiser l’expression, ici\n",
        "    pour sélectionner les deux premières lignes\n",
        "\n",
        "Ici, nous avons utilisé `head` pour matérialiser l’expression. Le reste\n",
        "de l’expression (les transformations antérieures) sera exécuté\n",
        "lorsqu’une action comme `head` est à mettre en oeuvre.\n",
        "\n",
        "Les actions qui déclenchent des opérations sont les suivantes:\n",
        "\n",
        "-   l’aggrégation (`df.groupby(..).agg(..)`)\n",
        "-   l’affichage de valeurs (`df.head(...)`)\n",
        "-   l’appel explicite à une exécution (`df.collect()`)\n",
        "\n",
        "Alors que les transformations suivantes ne génèrent pas d’exécution\n",
        "immédiate :\n",
        "\n",
        "-   la sélection d’observations (`df.filter(..)`)\n",
        "-   la création de nouvelles variables (`df.with_columns(..)`) ou la\n",
        "    sélection de colonnes (`df.select(...)`)\n",
        "\n",
        "Au contraire, leur exécution est retardée à une exécution ultérieure.\n",
        "\n",
        "# Sélection de données\n",
        "\n",
        "Deux types de sélections sont possibles :\n",
        "\n",
        "1.  une **sélection de variables** (en colonne), avec `select`\n",
        "2.  une **sélection d’observations** (en ligne), avec `filter`\n",
        "\n",
        "La combinaison des deux se faisant en chaînant l’appel à ces deux\n",
        "fonctions.\n",
        "\n",
        "## Sélection de variables\n",
        "\n",
        "Commençons par sélectionner des variables en utilisant leurs noms :"
      ],
      "id": "7a454a99-24fe-498d-86fb-d59295beb4e6"
    },
    {
      "cell_type": "code",
      "execution_count": 13,
      "metadata": {},
      "outputs": [
        {
          "output_type": "display_data",
          "metadata": {},
          "data": {
            "text/html": [
              "<div><style>\n",
              ".dataframe > thead > tr > th,\n",
              ".dataframe > tbody > tr > td {\n",
              "  text-align: right;\n",
              "}\n",
              "</style>\n",
              "<small>shape: (5, 3)</small><table border=\"1\" class=\"dataframe\"><thead><tr><th>DEPCOM</th><th>TYPEQU</th><th>NB_EQUIP</th></tr><tr><td>str</td><td>str</td><td>str</td></tr></thead><tbody><tr><td>&quot;01001&quot;</td><td>&quot;A129&quot;</td><td>&quot;1&quot;</td></tr><tr><td>&quot;01001&quot;</td><td>&quot;A401&quot;</td><td>&quot;2&quot;</td></tr><tr><td>&quot;01001&quot;</td><td>&quot;A402&quot;</td><td>&quot;1&quot;</td></tr><tr><td>&quot;01001&quot;</td><td>&quot;A404&quot;</td><td>&quot;2&quot;</td></tr><tr><td>&quot;01001&quot;</td><td>&quot;A405&quot;</td><td>&quot;2&quot;</td></tr></tbody></table></div>"
            ]
          }
        }
      ],
      "source": [
        "df_bpe.select(\n",
        "    [\"DEPCOM\", \"TYPEQU\", \"NB_EQUIP\"]\n",
        ").head(5)"
      ],
      "id": "38996245-6e0b-45dd-bf0a-0dc12abe261a"
    },
    {
      "cell_type": "markdown",
      "metadata": {},
      "source": [
        "Bien que cette méthode ne soit pas conseillée, il est bon de noter qu’il\n",
        "est également possible de sélectionner via les positions des colonnes,\n",
        "comme le permet `Pandas` :"
      ],
      "id": "1b0af279-feca-47cc-aa0d-96c8be82477c"
    },
    {
      "cell_type": "code",
      "execution_count": 14,
      "metadata": {},
      "outputs": [
        {
          "output_type": "display_data",
          "metadata": {},
          "data": {
            "text/html": [
              "<div><style>\n",
              ".dataframe > thead > tr > th,\n",
              ".dataframe > tbody > tr > td {\n",
              "  text-align: right;\n",
              "}\n",
              "</style>\n",
              "<small>shape: (5, 4)</small><table border=\"1\" class=\"dataframe\"><thead><tr><th>AN</th><th>BV2012</th><th>DEP</th><th>DEPCOM</th></tr><tr><td>str</td><td>str</td><td>str</td><td>str</td></tr></thead><tbody><tr><td>&quot;2021&quot;</td><td>&quot;01093&quot;</td><td>&quot;01&quot;</td><td>&quot;01001&quot;</td></tr><tr><td>&quot;2021&quot;</td><td>&quot;01093&quot;</td><td>&quot;01&quot;</td><td>&quot;01001&quot;</td></tr><tr><td>&quot;2021&quot;</td><td>&quot;01093&quot;</td><td>&quot;01&quot;</td><td>&quot;01001&quot;</td></tr><tr><td>&quot;2021&quot;</td><td>&quot;01093&quot;</td><td>&quot;01&quot;</td><td>&quot;01001&quot;</td></tr><tr><td>&quot;2021&quot;</td><td>&quot;01093&quot;</td><td>&quot;01&quot;</td><td>&quot;01001&quot;</td></tr></tbody></table></div>"
            ]
          }
        }
      ],
      "source": [
        "df_bpe[:, 1:5].head(5)"
      ],
      "id": "4e698425-c651-4ef9-8ce2-b715fdd0c70c"
    },
    {
      "cell_type": "markdown",
      "metadata": {},
      "source": [
        "On peut également s’appuyer sur des motifs de sélection des noms de\n",
        "colonnes mobilisant des expressions régulières (ici `^DEP.*$` signifiant\n",
        "*“débute par DEP”*):"
      ],
      "id": "eb5448ed-4595-4c3d-aa6a-e61b487c1b62"
    },
    {
      "cell_type": "code",
      "execution_count": 15,
      "metadata": {},
      "outputs": [
        {
          "output_type": "display_data",
          "metadata": {},
          "data": {
            "text/html": [
              "<div><style>\n",
              ".dataframe > thead > tr > th,\n",
              ".dataframe > tbody > tr > td {\n",
              "  text-align: right;\n",
              "}\n",
              "</style>\n",
              "<small>shape: (5, 2)</small><table border=\"1\" class=\"dataframe\"><thead><tr><th>DEP</th><th>DEPCOM</th></tr><tr><td>str</td><td>str</td></tr></thead><tbody><tr><td>&quot;01&quot;</td><td>&quot;01001&quot;</td></tr><tr><td>&quot;01&quot;</td><td>&quot;01001&quot;</td></tr><tr><td>&quot;01&quot;</td><td>&quot;01001&quot;</td></tr><tr><td>&quot;01&quot;</td><td>&quot;01001&quot;</td></tr><tr><td>&quot;01&quot;</td><td>&quot;01001&quot;</td></tr></tbody></table></div>"
            ]
          }
        }
      ],
      "source": [
        "df_bpe.select(\n",
        "    pl.col(\"^DEP.*$\")\n",
        ").head(5)"
      ],
      "id": "b775060c-5c5f-4adb-a06f-9658d5c741b4"
    },
    {
      "cell_type": "markdown",
      "metadata": {},
      "source": [
        "La fonction `select` acceptant des `list` Python, on peut construire des\n",
        "sélecteurs assez puissants :"
      ],
      "id": "405b3343-a2af-43d8-be94-d7f05e50139e"
    },
    {
      "cell_type": "code",
      "execution_count": 16,
      "metadata": {},
      "outputs": [
        {
          "output_type": "display_data",
          "metadata": {},
          "data": {
            "text/html": [
              "<div><style>\n",
              ".dataframe > thead > tr > th,\n",
              ".dataframe > tbody > tr > td {\n",
              "  text-align: right;\n",
              "}\n",
              "</style>\n",
              "<small>shape: (5, 2)</small><table border=\"1\" class=\"dataframe\"><thead><tr><th>DEP</th><th>DEPCOM</th></tr><tr><td>str</td><td>str</td></tr></thead><tbody><tr><td>&quot;01&quot;</td><td>&quot;01001&quot;</td></tr><tr><td>&quot;01&quot;</td><td>&quot;01001&quot;</td></tr><tr><td>&quot;01&quot;</td><td>&quot;01001&quot;</td></tr><tr><td>&quot;01&quot;</td><td>&quot;01001&quot;</td></tr><tr><td>&quot;01&quot;</td><td>&quot;01001&quot;</td></tr></tbody></table></div>"
            ]
          }
        }
      ],
      "source": [
        "dep_cols = [cols for cols in df_bpe.columns if cols.startswith(\"DEP\")] \n",
        "\n",
        "df_bpe.select(dep_cols).head(5)"
      ],
      "id": "7523b4db-4319-4a10-9326-46574ca5bf1d"
    },
    {
      "cell_type": "markdown",
      "metadata": {},
      "source": [
        "## Sélection d’observations\n",
        "\n",
        "La sélection d’observations (de lignes) se fera grâce à la fonction\n",
        "`filter`."
      ],
      "id": "6478488e-f225-4c1f-ba57-9b563680688f"
    },
    {
      "cell_type": "code",
      "execution_count": 17,
      "metadata": {},
      "outputs": [
        {
          "output_type": "display_data",
          "metadata": {},
          "data": {
            "text/html": [
              "<div><style>\n",
              ".dataframe > thead > tr > th,\n",
              ".dataframe > tbody > tr > td {\n",
              "  text-align: right;\n",
              "}\n",
              "</style>\n",
              "<small>shape: (5, 13)</small><table border=\"1\" class=\"dataframe\"><thead><tr><th>AAV2020</th><th>AN</th><th>BV2012</th><th>DEP</th><th>DEPCOM</th><th>DOM</th><th>EPCI</th><th>DCIRIS</th><th>REG</th><th>SDOM</th><th>TYPEQU</th><th>UU2020</th><th>NB_EQUIP</th></tr><tr><td>str</td><td>str</td><td>str</td><td>str</td><td>str</td><td>str</td><td>str</td><td>str</td><td>str</td><td>str</td><td>str</td><td>str</td><td>str</td></tr></thead><tbody><tr><td>&quot;001&quot;</td><td>&quot;2021&quot;</td><td>&quot;75056&quot;</td><td>&quot;75&quot;</td><td>&quot;75101&quot;</td><td>&quot;B&quot;</td><td>&quot;200054781&quot;</td><td>&quot;751010101&quot;</td><td>&quot;11&quot;</td><td>&quot;B3&quot;</td><td>&quot;B304&quot;</td><td>&quot;00851&quot;</td><td>&quot;2&quot;</td></tr><tr><td>&quot;001&quot;</td><td>&quot;2021&quot;</td><td>&quot;75056&quot;</td><td>&quot;75&quot;</td><td>&quot;75101&quot;</td><td>&quot;B&quot;</td><td>&quot;200054781&quot;</td><td>&quot;751010201&quot;</td><td>&quot;11&quot;</td><td>&quot;B3&quot;</td><td>&quot;B304&quot;</td><td>&quot;00851&quot;</td><td>&quot;17&quot;</td></tr><tr><td>&quot;001&quot;</td><td>&quot;2021&quot;</td><td>&quot;75056&quot;</td><td>&quot;75&quot;</td><td>&quot;75101&quot;</td><td>&quot;B&quot;</td><td>&quot;200054781&quot;</td><td>&quot;751010202&quot;</td><td>&quot;11&quot;</td><td>&quot;B3&quot;</td><td>&quot;B304&quot;</td><td>&quot;00851&quot;</td><td>&quot;3&quot;</td></tr><tr><td>&quot;001&quot;</td><td>&quot;2021&quot;</td><td>&quot;75056&quot;</td><td>&quot;75&quot;</td><td>&quot;75101&quot;</td><td>&quot;B&quot;</td><td>&quot;200054781&quot;</td><td>&quot;751010203&quot;</td><td>&quot;11&quot;</td><td>&quot;B3&quot;</td><td>&quot;B304&quot;</td><td>&quot;00851&quot;</td><td>&quot;6&quot;</td></tr><tr><td>&quot;001&quot;</td><td>&quot;2021&quot;</td><td>&quot;75056&quot;</td><td>&quot;75&quot;</td><td>&quot;75101&quot;</td><td>&quot;B&quot;</td><td>&quot;200054781&quot;</td><td>&quot;751010204&quot;</td><td>&quot;11&quot;</td><td>&quot;B3&quot;</td><td>&quot;B304&quot;</td><td>&quot;00851&quot;</td><td>&quot;7&quot;</td></tr></tbody></table></div>"
            ]
          }
        }
      ],
      "source": [
        "df_bpe.filter(\n",
        "    (pl.col(\"DEPCOM\") == \"75101\") &\n",
        "    (pl.col(\"TYPEQU\") == \"B304\")\n",
        ").head(5)"
      ],
      "id": "798c274d-50fd-4810-bef1-5ca3a479094b"
    },
    {
      "cell_type": "markdown",
      "metadata": {},
      "source": [
        "De nombreux opérateurs sont disponibles pour faciliter cette sélection\n",
        "d’observations. Ici, deux exemples :\n",
        "\n",
        "-   `is_in` qui permet de filtrer sur un ensemble de valeurs ;\n",
        "-   `is_null` pour trouver les données manquantes de la variable\n",
        "    *“EPCI”*.\n",
        "\n",
        "Par exemple, pour sélectionner les départements 75 et 92:"
      ],
      "id": "af9b4c01-b049-487b-92d8-781b0f225e31"
    },
    {
      "cell_type": "code",
      "execution_count": 18,
      "metadata": {},
      "outputs": [
        {
          "output_type": "display_data",
          "metadata": {},
          "data": {
            "text/html": [
              "<div><style>\n",
              ".dataframe > thead > tr > th,\n",
              ".dataframe > tbody > tr > td {\n",
              "  text-align: right;\n",
              "}\n",
              "</style>\n",
              "<small>shape: (5, 13)</small><table border=\"1\" class=\"dataframe\"><thead><tr><th>AAV2020</th><th>AN</th><th>BV2012</th><th>DEP</th><th>DEPCOM</th><th>DOM</th><th>EPCI</th><th>DCIRIS</th><th>REG</th><th>SDOM</th><th>TYPEQU</th><th>UU2020</th><th>NB_EQUIP</th></tr><tr><td>str</td><td>str</td><td>str</td><td>str</td><td>str</td><td>str</td><td>str</td><td>str</td><td>str</td><td>str</td><td>str</td><td>str</td><td>str</td></tr></thead><tbody><tr><td>&quot;001&quot;</td><td>&quot;2021&quot;</td><td>&quot;75056&quot;</td><td>&quot;75&quot;</td><td>&quot;75101&quot;</td><td>&quot;A&quot;</td><td>&quot;200054781&quot;</td><td>&quot;751010201&quot;</td><td>&quot;11&quot;</td><td>&quot;A1&quot;</td><td>&quot;A101&quot;</td><td>&quot;00851&quot;</td><td>&quot;1&quot;</td></tr><tr><td>&quot;001&quot;</td><td>&quot;2021&quot;</td><td>&quot;75056&quot;</td><td>&quot;75&quot;</td><td>&quot;75101&quot;</td><td>&quot;A&quot;</td><td>&quot;200054781&quot;</td><td>&quot;751010301&quot;</td><td>&quot;11&quot;</td><td>&quot;A1&quot;</td><td>&quot;A101&quot;</td><td>&quot;00851&quot;</td><td>&quot;1&quot;</td></tr><tr><td>&quot;001&quot;</td><td>&quot;2021&quot;</td><td>&quot;75056&quot;</td><td>&quot;75&quot;</td><td>&quot;75101&quot;</td><td>&quot;A&quot;</td><td>&quot;200054781&quot;</td><td>&quot;751010402&quot;</td><td>&quot;11&quot;</td><td>&quot;A1&quot;</td><td>&quot;A101&quot;</td><td>&quot;00851&quot;</td><td>&quot;1&quot;</td></tr><tr><td>&quot;001&quot;</td><td>&quot;2021&quot;</td><td>&quot;75056&quot;</td><td>&quot;75&quot;</td><td>&quot;75101&quot;</td><td>&quot;A&quot;</td><td>&quot;200054781&quot;</td><td>&quot;751010102&quot;</td><td>&quot;11&quot;</td><td>&quot;A1&quot;</td><td>&quot;A105&quot;</td><td>&quot;00851&quot;</td><td>&quot;1&quot;</td></tr><tr><td>&quot;001&quot;</td><td>&quot;2021&quot;</td><td>&quot;75056&quot;</td><td>&quot;75&quot;</td><td>&quot;75101&quot;</td><td>&quot;A&quot;</td><td>&quot;200054781&quot;</td><td>&quot;751010402&quot;</td><td>&quot;11&quot;</td><td>&quot;A1&quot;</td><td>&quot;A120&quot;</td><td>&quot;00851&quot;</td><td>&quot;1&quot;</td></tr></tbody></table></div>"
            ]
          }
        }
      ],
      "source": [
        "# Départements 75 ou 92\n",
        "df_bpe.filter(\n",
        "    pl.col(\"DEP\").is_in([\"75\", \"92\"])\n",
        ").head(5)"
      ],
      "id": "b7c474ab-e32a-4aae-9653-0889f410d1e4"
    },
    {
      "cell_type": "markdown",
      "metadata": {},
      "source": [
        "Pour sélectionner les observations où la variable EPCI a une valeur\n",
        "manquante:"
      ],
      "id": "0efacd87-f0fd-4857-8dfb-0dc1f0d234a7"
    },
    {
      "cell_type": "code",
      "execution_count": 19,
      "metadata": {},
      "outputs": [
        {
          "output_type": "display_data",
          "metadata": {},
          "data": {
            "text/html": [
              "<div><style>\n",
              ".dataframe > thead > tr > th,\n",
              ".dataframe > tbody > tr > td {\n",
              "  text-align: right;\n",
              "}\n",
              "</style>\n",
              "<small>shape: (0, 13)</small><table border=\"1\" class=\"dataframe\"><thead><tr><th>AAV2020</th><th>AN</th><th>BV2012</th><th>DEP</th><th>DEPCOM</th><th>DOM</th><th>EPCI</th><th>DCIRIS</th><th>REG</th><th>SDOM</th><th>TYPEQU</th><th>UU2020</th><th>NB_EQUIP</th></tr><tr><td>str</td><td>str</td><td>str</td><td>str</td><td>str</td><td>str</td><td>str</td><td>str</td><td>str</td><td>str</td><td>str</td><td>str</td><td>str</td></tr></thead><tbody></tbody></table></div>"
            ]
          }
        }
      ],
      "source": [
        "# Valeurs manquantes pour la variable EPCI\n",
        "df_bpe.filter(\n",
        "    pl.col(\"EPCI\").is_null()\n",
        ")"
      ],
      "id": "3ee3be63-e0d0-4e69-a382-56a381deb524"
    },
    {
      "cell_type": "markdown",
      "metadata": {},
      "source": [
        "A l’inverse, si on désire ne sélectionner que les observations où la\n",
        "colonne *“EPCI”* n’est pas manquante :"
      ],
      "id": "cdbad0b6-3367-4f3c-97d4-d23b028bc704"
    },
    {
      "cell_type": "code",
      "execution_count": 20,
      "metadata": {},
      "outputs": [
        {
          "output_type": "display_data",
          "metadata": {},
          "data": {
            "text/html": [
              "<div><style>\n",
              ".dataframe > thead > tr > th,\n",
              ".dataframe > tbody > tr > td {\n",
              "  text-align: right;\n",
              "}\n",
              "</style>\n",
              "<small>shape: (1056914, 13)</small><table border=\"1\" class=\"dataframe\"><thead><tr><th>AAV2020</th><th>AN</th><th>BV2012</th><th>DEP</th><th>DEPCOM</th><th>DOM</th><th>EPCI</th><th>DCIRIS</th><th>REG</th><th>SDOM</th><th>TYPEQU</th><th>UU2020</th><th>NB_EQUIP</th></tr><tr><td>str</td><td>str</td><td>str</td><td>str</td><td>str</td><td>str</td><td>str</td><td>str</td><td>str</td><td>str</td><td>str</td><td>str</td><td>str</td></tr></thead><tbody><tr><td>&quot;524&quot;</td><td>&quot;2021&quot;</td><td>&quot;01093&quot;</td><td>&quot;01&quot;</td><td>&quot;01001&quot;</td><td>&quot;A&quot;</td><td>&quot;200069193&quot;</td><td>&quot;010010000&quot;</td><td>&quot;84&quot;</td><td>&quot;A1&quot;</td><td>&quot;A129&quot;</td><td>&quot;CSZ&quot;</td><td>&quot;1&quot;</td></tr><tr><td>&quot;524&quot;</td><td>&quot;2021&quot;</td><td>&quot;01093&quot;</td><td>&quot;01&quot;</td><td>&quot;01001&quot;</td><td>&quot;A&quot;</td><td>&quot;200069193&quot;</td><td>&quot;010010000&quot;</td><td>&quot;84&quot;</td><td>&quot;A4&quot;</td><td>&quot;A401&quot;</td><td>&quot;CSZ&quot;</td><td>&quot;2&quot;</td></tr><tr><td>&quot;524&quot;</td><td>&quot;2021&quot;</td><td>&quot;01093&quot;</td><td>&quot;01&quot;</td><td>&quot;01001&quot;</td><td>&quot;A&quot;</td><td>&quot;200069193&quot;</td><td>&quot;010010000&quot;</td><td>&quot;84&quot;</td><td>&quot;A4&quot;</td><td>&quot;A402&quot;</td><td>&quot;CSZ&quot;</td><td>&quot;1&quot;</td></tr><tr><td>&quot;524&quot;</td><td>&quot;2021&quot;</td><td>&quot;01093&quot;</td><td>&quot;01&quot;</td><td>&quot;01001&quot;</td><td>&quot;A&quot;</td><td>&quot;200069193&quot;</td><td>&quot;010010000&quot;</td><td>&quot;84&quot;</td><td>&quot;A4&quot;</td><td>&quot;A404&quot;</td><td>&quot;CSZ&quot;</td><td>&quot;2&quot;</td></tr><tr><td>&quot;524&quot;</td><td>&quot;2021&quot;</td><td>&quot;01093&quot;</td><td>&quot;01&quot;</td><td>&quot;01001&quot;</td><td>&quot;A&quot;</td><td>&quot;200069193&quot;</td><td>&quot;010010000&quot;</td><td>&quot;84&quot;</td><td>&quot;A4&quot;</td><td>&quot;A405&quot;</td><td>&quot;CSZ&quot;</td><td>&quot;2&quot;</td></tr><tr><td>&quot;524&quot;</td><td>&quot;2021&quot;</td><td>&quot;01093&quot;</td><td>&quot;01&quot;</td><td>&quot;01001&quot;</td><td>&quot;A&quot;</td><td>&quot;200069193&quot;</td><td>&quot;010010000&quot;</td><td>&quot;84&quot;</td><td>&quot;A5&quot;</td><td>&quot;A504&quot;</td><td>&quot;CSZ&quot;</td><td>&quot;1&quot;</td></tr><tr><td>&quot;524&quot;</td><td>&quot;2021&quot;</td><td>&quot;01093&quot;</td><td>&quot;01&quot;</td><td>&quot;01001&quot;</td><td>&quot;A&quot;</td><td>&quot;200069193&quot;</td><td>&quot;010010000&quot;</td><td>&quot;84&quot;</td><td>&quot;A5&quot;</td><td>&quot;A505&quot;</td><td>&quot;CSZ&quot;</td><td>&quot;1&quot;</td></tr><tr><td>&quot;524&quot;</td><td>&quot;2021&quot;</td><td>&quot;01093&quot;</td><td>&quot;01&quot;</td><td>&quot;01001&quot;</td><td>&quot;A&quot;</td><td>&quot;200069193&quot;</td><td>&quot;010010000&quot;</td><td>&quot;84&quot;</td><td>&quot;A5&quot;</td><td>&quot;A507&quot;</td><td>&quot;CSZ&quot;</td><td>&quot;2&quot;</td></tr><tr><td>&quot;524&quot;</td><td>&quot;2021&quot;</td><td>&quot;01093&quot;</td><td>&quot;01&quot;</td><td>&quot;01001&quot;</td><td>&quot;B&quot;</td><td>&quot;200069193&quot;</td><td>&quot;010010000&quot;</td><td>&quot;84&quot;</td><td>&quot;B2&quot;</td><td>&quot;B203&quot;</td><td>&quot;CSZ&quot;</td><td>&quot;1&quot;</td></tr><tr><td>&quot;524&quot;</td><td>&quot;2021&quot;</td><td>&quot;01093&quot;</td><td>&quot;01&quot;</td><td>&quot;01001&quot;</td><td>&quot;C&quot;</td><td>&quot;200069193&quot;</td><td>&quot;010010000&quot;</td><td>&quot;84&quot;</td><td>&quot;C1&quot;</td><td>&quot;C104&quot;</td><td>&quot;CSZ&quot;</td><td>&quot;1&quot;</td></tr><tr><td>&quot;524&quot;</td><td>&quot;2021&quot;</td><td>&quot;01093&quot;</td><td>&quot;01&quot;</td><td>&quot;01001&quot;</td><td>&quot;D&quot;</td><td>&quot;200069193&quot;</td><td>&quot;010010000&quot;</td><td>&quot;84&quot;</td><td>&quot;D2&quot;</td><td>&quot;D233&quot;</td><td>&quot;CSZ&quot;</td><td>&quot;1&quot;</td></tr><tr><td>&quot;524&quot;</td><td>&quot;2021&quot;</td><td>&quot;01093&quot;</td><td>&quot;01&quot;</td><td>&quot;01001&quot;</td><td>&quot;F&quot;</td><td>&quot;200069193&quot;</td><td>&quot;010010000&quot;</td><td>&quot;84&quot;</td><td>&quot;F1&quot;</td><td>&quot;F102&quot;</td><td>&quot;CSZ&quot;</td><td>&quot;1&quot;</td></tr><tr><td>...</td><td>...</td><td>...</td><td>...</td><td>...</td><td>...</td><td>...</td><td>...</td><td>...</td><td>...</td><td>...</td><td>...</td><td>...</td></tr><tr><td>&quot;9F1&quot;</td><td>&quot;2021&quot;</td><td>&quot;CSZ&quot;</td><td>&quot;976&quot;</td><td>&quot;97617&quot;</td><td>&quot;D&quot;</td><td>&quot;200059871&quot;</td><td>&quot;97617_IND&quot;</td><td>&quot;06&quot;</td><td>&quot;D6&quot;</td><td>&quot;D604&quot;</td><td>&quot;9F304&quot;</td><td>&quot;1&quot;</td></tr><tr><td>&quot;9F1&quot;</td><td>&quot;2021&quot;</td><td>&quot;CSZ&quot;</td><td>&quot;976&quot;</td><td>&quot;97617&quot;</td><td>&quot;E&quot;</td><td>&quot;200059871&quot;</td><td>&quot;97617_IND&quot;</td><td>&quot;06&quot;</td><td>&quot;E1&quot;</td><td>&quot;E101&quot;</td><td>&quot;9F304&quot;</td><td>&quot;8&quot;</td></tr><tr><td>&quot;9F1&quot;</td><td>&quot;2021&quot;</td><td>&quot;CSZ&quot;</td><td>&quot;976&quot;</td><td>&quot;97617&quot;</td><td>&quot;F&quot;</td><td>&quot;200059871&quot;</td><td>&quot;97617_IND&quot;</td><td>&quot;06&quot;</td><td>&quot;F1&quot;</td><td>&quot;F102&quot;</td><td>&quot;9F304&quot;</td><td>&quot;2&quot;</td></tr><tr><td>&quot;9F1&quot;</td><td>&quot;2021&quot;</td><td>&quot;CSZ&quot;</td><td>&quot;976&quot;</td><td>&quot;97617&quot;</td><td>&quot;F&quot;</td><td>&quot;200059871&quot;</td><td>&quot;97617_IND&quot;</td><td>&quot;06&quot;</td><td>&quot;F1&quot;</td><td>&quot;F103&quot;</td><td>&quot;9F304&quot;</td><td>&quot;1&quot;</td></tr><tr><td>&quot;9F1&quot;</td><td>&quot;2021&quot;</td><td>&quot;CSZ&quot;</td><td>&quot;976&quot;</td><td>&quot;97617&quot;</td><td>&quot;F&quot;</td><td>&quot;200059871&quot;</td><td>&quot;97617_IND&quot;</td><td>&quot;06&quot;</td><td>&quot;F1&quot;</td><td>&quot;F108&quot;</td><td>&quot;9F304&quot;</td><td>&quot;1&quot;</td></tr><tr><td>&quot;9F1&quot;</td><td>&quot;2021&quot;</td><td>&quot;CSZ&quot;</td><td>&quot;976&quot;</td><td>&quot;97617&quot;</td><td>&quot;F&quot;</td><td>&quot;200059871&quot;</td><td>&quot;97617_IND&quot;</td><td>&quot;06&quot;</td><td>&quot;F1&quot;</td><td>&quot;F111&quot;</td><td>&quot;9F304&quot;</td><td>&quot;4&quot;</td></tr><tr><td>&quot;9F1&quot;</td><td>&quot;2021&quot;</td><td>&quot;CSZ&quot;</td><td>&quot;976&quot;</td><td>&quot;97617&quot;</td><td>&quot;F&quot;</td><td>&quot;200059871&quot;</td><td>&quot;97617_IND&quot;</td><td>&quot;06&quot;</td><td>&quot;F1&quot;</td><td>&quot;F113&quot;</td><td>&quot;9F304&quot;</td><td>&quot;4&quot;</td></tr><tr><td>&quot;9F1&quot;</td><td>&quot;2021&quot;</td><td>&quot;CSZ&quot;</td><td>&quot;976&quot;</td><td>&quot;97617&quot;</td><td>&quot;F&quot;</td><td>&quot;200059871&quot;</td><td>&quot;97617_IND&quot;</td><td>&quot;06&quot;</td><td>&quot;F1&quot;</td><td>&quot;F114&quot;</td><td>&quot;9F304&quot;</td><td>&quot;1&quot;</td></tr><tr><td>&quot;9F1&quot;</td><td>&quot;2021&quot;</td><td>&quot;CSZ&quot;</td><td>&quot;976&quot;</td><td>&quot;97617&quot;</td><td>&quot;F&quot;</td><td>&quot;200059871&quot;</td><td>&quot;97617_IND&quot;</td><td>&quot;06&quot;</td><td>&quot;F1&quot;</td><td>&quot;F120&quot;</td><td>&quot;9F304&quot;</td><td>&quot;1&quot;</td></tr><tr><td>&quot;9F1&quot;</td><td>&quot;2021&quot;</td><td>&quot;CSZ&quot;</td><td>&quot;976&quot;</td><td>&quot;97617&quot;</td><td>&quot;F&quot;</td><td>&quot;200059871&quot;</td><td>&quot;97617_IND&quot;</td><td>&quot;06&quot;</td><td>&quot;F1&quot;</td><td>&quot;F121&quot;</td><td>&quot;9F304&quot;</td><td>&quot;3&quot;</td></tr><tr><td>&quot;9F1&quot;</td><td>&quot;2021&quot;</td><td>&quot;CSZ&quot;</td><td>&quot;976&quot;</td><td>&quot;97617&quot;</td><td>&quot;F&quot;</td><td>&quot;200059871&quot;</td><td>&quot;97617_IND&quot;</td><td>&quot;06&quot;</td><td>&quot;F3&quot;</td><td>&quot;F307&quot;</td><td>&quot;9F304&quot;</td><td>&quot;1&quot;</td></tr><tr><td>&quot;9F1&quot;</td><td>&quot;2021&quot;</td><td>&quot;CSZ&quot;</td><td>&quot;976&quot;</td><td>&quot;97617&quot;</td><td>&quot;G&quot;</td><td>&quot;200059871&quot;</td><td>&quot;97617_IND&quot;</td><td>&quot;06&quot;</td><td>&quot;G1&quot;</td><td>&quot;G104&quot;</td><td>&quot;9F304&quot;</td><td>&quot;1&quot;</td></tr></tbody></table></div>"
            ]
          }
        }
      ],
      "source": [
        "df_bpe.filter(\n",
        "    pl.col(\"EPCI\").is_not_null()\n",
        ")"
      ],
      "id": "7ece0e84-068a-4d3e-b60b-01c2c251de42"
    },
    {
      "cell_type": "markdown",
      "metadata": {},
      "source": [
        "Comme avec `Pandas`, il existe énormément de méthodes pratiques pour la\n",
        "manipulation de données\n",
        "\n",
        "## Renommage de variables\n",
        "\n",
        "La fonction `rename` permet de lister les colonnes à renommer via un\n",
        "dictionnaire Python :"
      ],
      "id": "c2fe182e-50b8-44b7-b06e-d1718154d7d0"
    },
    {
      "cell_type": "code",
      "execution_count": 21,
      "metadata": {
        "tags": []
      },
      "outputs": [
        {
          "output_type": "display_data",
          "metadata": {},
          "data": {
            "text/html": [
              "<div><style>\n",
              ".dataframe > thead > tr > th,\n",
              ".dataframe > tbody > tr > td {\n",
              "  text-align: right;\n",
              "}\n",
              "</style>\n",
              "<small>shape: (5, 13)</small><table border=\"1\" class=\"dataframe\"><thead><tr><th>AAV2020</th><th>AN</th><th>BV2012</th><th>DEP</th><th>code_commune</th><th>DOM</th><th>EPCI</th><th>DCIRIS</th><th>REG</th><th>SDOM</th><th>TYPEQU</th><th>UU2020</th><th>NB_EQUIP</th></tr><tr><td>str</td><td>str</td><td>str</td><td>str</td><td>str</td><td>str</td><td>str</td><td>str</td><td>str</td><td>str</td><td>str</td><td>str</td><td>str</td></tr></thead><tbody><tr><td>&quot;524&quot;</td><td>&quot;2021&quot;</td><td>&quot;01093&quot;</td><td>&quot;01&quot;</td><td>&quot;01001&quot;</td><td>&quot;A&quot;</td><td>&quot;200069193&quot;</td><td>&quot;010010000&quot;</td><td>&quot;84&quot;</td><td>&quot;A1&quot;</td><td>&quot;A129&quot;</td><td>&quot;CSZ&quot;</td><td>&quot;1&quot;</td></tr><tr><td>&quot;524&quot;</td><td>&quot;2021&quot;</td><td>&quot;01093&quot;</td><td>&quot;01&quot;</td><td>&quot;01001&quot;</td><td>&quot;A&quot;</td><td>&quot;200069193&quot;</td><td>&quot;010010000&quot;</td><td>&quot;84&quot;</td><td>&quot;A4&quot;</td><td>&quot;A401&quot;</td><td>&quot;CSZ&quot;</td><td>&quot;2&quot;</td></tr><tr><td>&quot;524&quot;</td><td>&quot;2021&quot;</td><td>&quot;01093&quot;</td><td>&quot;01&quot;</td><td>&quot;01001&quot;</td><td>&quot;A&quot;</td><td>&quot;200069193&quot;</td><td>&quot;010010000&quot;</td><td>&quot;84&quot;</td><td>&quot;A4&quot;</td><td>&quot;A402&quot;</td><td>&quot;CSZ&quot;</td><td>&quot;1&quot;</td></tr><tr><td>&quot;524&quot;</td><td>&quot;2021&quot;</td><td>&quot;01093&quot;</td><td>&quot;01&quot;</td><td>&quot;01001&quot;</td><td>&quot;A&quot;</td><td>&quot;200069193&quot;</td><td>&quot;010010000&quot;</td><td>&quot;84&quot;</td><td>&quot;A4&quot;</td><td>&quot;A404&quot;</td><td>&quot;CSZ&quot;</td><td>&quot;2&quot;</td></tr><tr><td>&quot;524&quot;</td><td>&quot;2021&quot;</td><td>&quot;01093&quot;</td><td>&quot;01&quot;</td><td>&quot;01001&quot;</td><td>&quot;A&quot;</td><td>&quot;200069193&quot;</td><td>&quot;010010000&quot;</td><td>&quot;84&quot;</td><td>&quot;A4&quot;</td><td>&quot;A405&quot;</td><td>&quot;CSZ&quot;</td><td>&quot;2&quot;</td></tr></tbody></table></div>"
            ]
          }
        }
      ],
      "source": [
        "df_bpe.rename({\n",
        "    \"DEPCOM\" : \"code_commune\"\n",
        "}).head(5)"
      ],
      "id": "87dae0ae-72aa-4a3d-8e47-b06373df4bd1"
    },
    {
      "cell_type": "markdown",
      "metadata": {},
      "source": [
        "<div class=\"alert alert-info\" role=\"alert\">\n",
        "<h3 class=\"alert-heading\"><i class=\"fa-solid fa-comment\"></i> Note</h3>\n",
        "\n",
        "Petit piège, la logique est l’inverse de celle de `dplyr` : le\n",
        "dictionnaire est sous la forme\n",
        "`{\"ancienne_colonne\": \"nouvelle_colonne\"}`\n",
        "\n",
        "</div>"
      ],
      "id": "b89f3ee4-74ca-4a17-b439-673941f820fa"
    },
    {
      "cell_type": "markdown",
      "metadata": {},
      "source": [
        "Comme vu plus haut, construire des expressions de renommage plus\n",
        "complexes pourra se faire en pur `Python` :"
      ],
      "id": "315053f0-7d19-4dda-b104-8815bed18f83"
    },
    {
      "cell_type": "code",
      "execution_count": 22,
      "metadata": {},
      "outputs": [
        {
          "output_type": "display_data",
          "metadata": {},
          "data": {
            "text/html": [
              "<div><style>\n",
              ".dataframe > thead > tr > th,\n",
              ".dataframe > tbody > tr > td {\n",
              "  text-align: right;\n",
              "}\n",
              "</style>\n",
              "<small>shape: (5, 13)</small><table border=\"1\" class=\"dataframe\"><thead><tr><th>aav2020</th><th>an</th><th>bv2012</th><th>dep</th><th>depcom</th><th>dom</th><th>epci</th><th>dciris</th><th>reg</th><th>sdom</th><th>typequ</th><th>uu2020</th><th>nb_equip</th></tr><tr><td>str</td><td>str</td><td>str</td><td>str</td><td>str</td><td>str</td><td>str</td><td>str</td><td>str</td><td>str</td><td>str</td><td>str</td><td>str</td></tr></thead><tbody><tr><td>&quot;524&quot;</td><td>&quot;2021&quot;</td><td>&quot;01093&quot;</td><td>&quot;01&quot;</td><td>&quot;01001&quot;</td><td>&quot;A&quot;</td><td>&quot;200069193&quot;</td><td>&quot;010010000&quot;</td><td>&quot;84&quot;</td><td>&quot;A1&quot;</td><td>&quot;A129&quot;</td><td>&quot;CSZ&quot;</td><td>&quot;1&quot;</td></tr><tr><td>&quot;524&quot;</td><td>&quot;2021&quot;</td><td>&quot;01093&quot;</td><td>&quot;01&quot;</td><td>&quot;01001&quot;</td><td>&quot;A&quot;</td><td>&quot;200069193&quot;</td><td>&quot;010010000&quot;</td><td>&quot;84&quot;</td><td>&quot;A4&quot;</td><td>&quot;A401&quot;</td><td>&quot;CSZ&quot;</td><td>&quot;2&quot;</td></tr><tr><td>&quot;524&quot;</td><td>&quot;2021&quot;</td><td>&quot;01093&quot;</td><td>&quot;01&quot;</td><td>&quot;01001&quot;</td><td>&quot;A&quot;</td><td>&quot;200069193&quot;</td><td>&quot;010010000&quot;</td><td>&quot;84&quot;</td><td>&quot;A4&quot;</td><td>&quot;A402&quot;</td><td>&quot;CSZ&quot;</td><td>&quot;1&quot;</td></tr><tr><td>&quot;524&quot;</td><td>&quot;2021&quot;</td><td>&quot;01093&quot;</td><td>&quot;01&quot;</td><td>&quot;01001&quot;</td><td>&quot;A&quot;</td><td>&quot;200069193&quot;</td><td>&quot;010010000&quot;</td><td>&quot;84&quot;</td><td>&quot;A4&quot;</td><td>&quot;A404&quot;</td><td>&quot;CSZ&quot;</td><td>&quot;2&quot;</td></tr><tr><td>&quot;524&quot;</td><td>&quot;2021&quot;</td><td>&quot;01093&quot;</td><td>&quot;01&quot;</td><td>&quot;01001&quot;</td><td>&quot;A&quot;</td><td>&quot;200069193&quot;</td><td>&quot;010010000&quot;</td><td>&quot;84&quot;</td><td>&quot;A4&quot;</td><td>&quot;A405&quot;</td><td>&quot;CSZ&quot;</td><td>&quot;2&quot;</td></tr></tbody></table></div>"
            ]
          }
        }
      ],
      "source": [
        "cols_minuscules = {cols: cols.lower() for cols in df_bpe.columns}\n",
        "\n",
        "df_bpe.rename(cols_minuscules).head(5)"
      ],
      "id": "f4e54644-4590-4ba5-b1e9-d4c7a816f9bb"
    },
    {
      "cell_type": "markdown",
      "metadata": {},
      "source": [
        "## Trier une table\n",
        "\n",
        "La fonction `sort` permet de trier la table sur une ou plusieurs\n",
        "variables."
      ],
      "id": "270e4c71-b4bd-48ae-a358-b76a10fd88cc"
    },
    {
      "cell_type": "code",
      "execution_count": 23,
      "metadata": {},
      "outputs": [
        {
          "output_type": "display_data",
          "metadata": {},
          "data": {
            "text/html": [
              "<div><style>\n",
              ".dataframe > thead > tr > th,\n",
              ".dataframe > tbody > tr > td {\n",
              "  text-align: right;\n",
              "}\n",
              "</style>\n",
              "<small>shape: (5, 13)</small><table border=\"1\" class=\"dataframe\"><thead><tr><th>AAV2020</th><th>AN</th><th>BV2012</th><th>DEP</th><th>DEPCOM</th><th>DOM</th><th>EPCI</th><th>DCIRIS</th><th>REG</th><th>SDOM</th><th>TYPEQU</th><th>UU2020</th><th>NB_EQUIP</th></tr><tr><td>str</td><td>str</td><td>str</td><td>str</td><td>str</td><td>str</td><td>str</td><td>str</td><td>str</td><td>str</td><td>str</td><td>str</td><td>str</td></tr></thead><tbody><tr><td>&quot;524&quot;</td><td>&quot;2021&quot;</td><td>&quot;01093&quot;</td><td>&quot;01&quot;</td><td>&quot;01001&quot;</td><td>&quot;A&quot;</td><td>&quot;200069193&quot;</td><td>&quot;010010000&quot;</td><td>&quot;84&quot;</td><td>&quot;A1&quot;</td><td>&quot;A129&quot;</td><td>&quot;CSZ&quot;</td><td>&quot;1&quot;</td></tr><tr><td>&quot;524&quot;</td><td>&quot;2021&quot;</td><td>&quot;01093&quot;</td><td>&quot;01&quot;</td><td>&quot;01001&quot;</td><td>&quot;A&quot;</td><td>&quot;200069193&quot;</td><td>&quot;010010000&quot;</td><td>&quot;84&quot;</td><td>&quot;A4&quot;</td><td>&quot;A401&quot;</td><td>&quot;CSZ&quot;</td><td>&quot;2&quot;</td></tr><tr><td>&quot;524&quot;</td><td>&quot;2021&quot;</td><td>&quot;01093&quot;</td><td>&quot;01&quot;</td><td>&quot;01001&quot;</td><td>&quot;A&quot;</td><td>&quot;200069193&quot;</td><td>&quot;010010000&quot;</td><td>&quot;84&quot;</td><td>&quot;A4&quot;</td><td>&quot;A402&quot;</td><td>&quot;CSZ&quot;</td><td>&quot;1&quot;</td></tr><tr><td>&quot;524&quot;</td><td>&quot;2021&quot;</td><td>&quot;01093&quot;</td><td>&quot;01&quot;</td><td>&quot;01001&quot;</td><td>&quot;A&quot;</td><td>&quot;200069193&quot;</td><td>&quot;010010000&quot;</td><td>&quot;84&quot;</td><td>&quot;A4&quot;</td><td>&quot;A404&quot;</td><td>&quot;CSZ&quot;</td><td>&quot;2&quot;</td></tr><tr><td>&quot;524&quot;</td><td>&quot;2021&quot;</td><td>&quot;01093&quot;</td><td>&quot;01&quot;</td><td>&quot;01001&quot;</td><td>&quot;A&quot;</td><td>&quot;200069193&quot;</td><td>&quot;010010000&quot;</td><td>&quot;84&quot;</td><td>&quot;A4&quot;</td><td>&quot;A405&quot;</td><td>&quot;CSZ&quot;</td><td>&quot;2&quot;</td></tr></tbody></table></div>"
            ]
          }
        }
      ],
      "source": [
        "df_bpe.lazy()\\\n",
        "    .sort(\"DEPCOM\", \"TYPEQU\")\\\n",
        "    .head(5).collect()"
      ],
      "id": "1ae2e297-5dd6-4b57-a718-477398bb9849"
    },
    {
      "cell_type": "markdown",
      "metadata": {},
      "source": [
        "L’ordre de tri - croissant par défaut - peut-être précisé pour chaque\n",
        "variable."
      ],
      "id": "b4d9e8c5-18eb-4e4f-859b-34901b5452f8"
    },
    {
      "cell_type": "code",
      "execution_count": 24,
      "metadata": {},
      "outputs": [
        {
          "output_type": "display_data",
          "metadata": {},
          "data": {
            "text/html": [
              "<div><style>\n",
              ".dataframe > thead > tr > th,\n",
              ".dataframe > tbody > tr > td {\n",
              "  text-align: right;\n",
              "}\n",
              "</style>\n",
              "<small>shape: (5, 13)</small><table border=\"1\" class=\"dataframe\"><thead><tr><th>AAV2020</th><th>AN</th><th>BV2012</th><th>DEP</th><th>DEPCOM</th><th>DOM</th><th>EPCI</th><th>DCIRIS</th><th>REG</th><th>SDOM</th><th>TYPEQU</th><th>UU2020</th><th>NB_EQUIP</th></tr><tr><td>str</td><td>str</td><td>str</td><td>str</td><td>str</td><td>str</td><td>str</td><td>str</td><td>str</td><td>str</td><td>str</td><td>str</td><td>str</td></tr></thead><tbody><tr><td>&quot;9F1&quot;</td><td>&quot;2021&quot;</td><td>&quot;CSZ&quot;</td><td>&quot;976&quot;</td><td>&quot;97617&quot;</td><td>&quot;A&quot;</td><td>&quot;200059871&quot;</td><td>&quot;97617_IND&quot;</td><td>&quot;06&quot;</td><td>&quot;A1&quot;</td><td>&quot;A128&quot;</td><td>&quot;9F304&quot;</td><td>&quot;1&quot;</td></tr><tr><td>&quot;9F1&quot;</td><td>&quot;2021&quot;</td><td>&quot;CSZ&quot;</td><td>&quot;976&quot;</td><td>&quot;97617&quot;</td><td>&quot;A&quot;</td><td>&quot;200059871&quot;</td><td>&quot;97617_IND&quot;</td><td>&quot;06&quot;</td><td>&quot;A1&quot;</td><td>&quot;A129&quot;</td><td>&quot;9F304&quot;</td><td>&quot;1&quot;</td></tr><tr><td>&quot;9F1&quot;</td><td>&quot;2021&quot;</td><td>&quot;CSZ&quot;</td><td>&quot;976&quot;</td><td>&quot;97617&quot;</td><td>&quot;A&quot;</td><td>&quot;200059871&quot;</td><td>&quot;97617_IND&quot;</td><td>&quot;06&quot;</td><td>&quot;A2&quot;</td><td>&quot;A203&quot;</td><td>&quot;9F304&quot;</td><td>&quot;1&quot;</td></tr><tr><td>&quot;9F1&quot;</td><td>&quot;2021&quot;</td><td>&quot;CSZ&quot;</td><td>&quot;976&quot;</td><td>&quot;97617&quot;</td><td>&quot;A&quot;</td><td>&quot;200059871&quot;</td><td>&quot;97617_IND&quot;</td><td>&quot;06&quot;</td><td>&quot;A2&quot;</td><td>&quot;A205&quot;</td><td>&quot;9F304&quot;</td><td>&quot;1&quot;</td></tr><tr><td>&quot;9F1&quot;</td><td>&quot;2021&quot;</td><td>&quot;CSZ&quot;</td><td>&quot;976&quot;</td><td>&quot;97617&quot;</td><td>&quot;A&quot;</td><td>&quot;200059871&quot;</td><td>&quot;97617_IND&quot;</td><td>&quot;06&quot;</td><td>&quot;A2&quot;</td><td>&quot;A206&quot;</td><td>&quot;9F304&quot;</td><td>&quot;1&quot;</td></tr></tbody></table></div>"
            ]
          }
        }
      ],
      "source": [
        "df_bpe.lazy()\\\n",
        "    .sort(\"DEPCOM\", \"TYPEQU\", descending=[True, False])\\\n",
        "    .head(5).collect()"
      ],
      "id": "4268b8b8-d9a6-4cca-b805-33fd892efdeb"
    },
    {
      "cell_type": "markdown",
      "metadata": {},
      "source": [
        "## Création de nouvelles variables\n",
        "\n",
        "La création de nouvelles variables se fera via `with_columns`. Dans\n",
        "l’exemple qui suit :\n",
        "\n",
        "-   on convertit en entier numérique la variable `NB_EQUIP`\n",
        "-   on calcule la somme cumulée (avec `cumsum`)\n",
        "-   on nomme la nouvelle colonne `NB_EQUIP_SUM`"
      ],
      "id": "7f86c9fe-91d0-4d8c-b273-e075927b0a80"
    },
    {
      "cell_type": "code",
      "execution_count": 25,
      "metadata": {},
      "outputs": [
        {
          "output_type": "display_data",
          "metadata": {},
          "data": {
            "text/html": [
              "<div><style>\n",
              ".dataframe > thead > tr > th,\n",
              ".dataframe > tbody > tr > td {\n",
              "  text-align: right;\n",
              "}\n",
              "</style>\n",
              "<small>shape: (5, 15)</small><table border=\"1\" class=\"dataframe\"><thead><tr><th>AAV2020</th><th>AN</th><th>BV2012</th><th>DEP</th><th>DEPCOM</th><th>DOM</th><th>EPCI</th><th>DCIRIS</th><th>REG</th><th>SDOM</th><th>TYPEQU</th><th>UU2020</th><th>NB_EQUIP</th><th>NB_EQUIP_SUM</th><th>NB_EQUIP_3PLUS</th></tr><tr><td>str</td><td>str</td><td>str</td><td>str</td><td>str</td><td>str</td><td>str</td><td>str</td><td>str</td><td>str</td><td>str</td><td>str</td><td>i64</td><td>i64</td><td>bool</td></tr></thead><tbody><tr><td>&quot;524&quot;</td><td>&quot;2021&quot;</td><td>&quot;01093&quot;</td><td>&quot;01&quot;</td><td>&quot;01001&quot;</td><td>&quot;A&quot;</td><td>&quot;200069193&quot;</td><td>&quot;010010000&quot;</td><td>&quot;84&quot;</td><td>&quot;A1&quot;</td><td>&quot;A129&quot;</td><td>&quot;CSZ&quot;</td><td>1</td><td>1</td><td>false</td></tr><tr><td>&quot;524&quot;</td><td>&quot;2021&quot;</td><td>&quot;01093&quot;</td><td>&quot;01&quot;</td><td>&quot;01001&quot;</td><td>&quot;A&quot;</td><td>&quot;200069193&quot;</td><td>&quot;010010000&quot;</td><td>&quot;84&quot;</td><td>&quot;A4&quot;</td><td>&quot;A401&quot;</td><td>&quot;CSZ&quot;</td><td>2</td><td>3</td><td>false</td></tr><tr><td>&quot;524&quot;</td><td>&quot;2021&quot;</td><td>&quot;01093&quot;</td><td>&quot;01&quot;</td><td>&quot;01001&quot;</td><td>&quot;A&quot;</td><td>&quot;200069193&quot;</td><td>&quot;010010000&quot;</td><td>&quot;84&quot;</td><td>&quot;A4&quot;</td><td>&quot;A402&quot;</td><td>&quot;CSZ&quot;</td><td>1</td><td>4</td><td>false</td></tr><tr><td>&quot;524&quot;</td><td>&quot;2021&quot;</td><td>&quot;01093&quot;</td><td>&quot;01&quot;</td><td>&quot;01001&quot;</td><td>&quot;A&quot;</td><td>&quot;200069193&quot;</td><td>&quot;010010000&quot;</td><td>&quot;84&quot;</td><td>&quot;A4&quot;</td><td>&quot;A404&quot;</td><td>&quot;CSZ&quot;</td><td>2</td><td>6</td><td>false</td></tr><tr><td>&quot;524&quot;</td><td>&quot;2021&quot;</td><td>&quot;01093&quot;</td><td>&quot;01&quot;</td><td>&quot;01001&quot;</td><td>&quot;A&quot;</td><td>&quot;200069193&quot;</td><td>&quot;010010000&quot;</td><td>&quot;84&quot;</td><td>&quot;A4&quot;</td><td>&quot;A405&quot;</td><td>&quot;CSZ&quot;</td><td>2</td><td>8</td><td>false</td></tr></tbody></table></div>"
            ]
          }
        }
      ],
      "source": [
        "df_bpe.lazy()\\\n",
        "    .with_columns(pl.col('NB_EQUIP').cast(pl.Int64, strict=False))\\\n",
        "    .with_columns(\n",
        "        pl.col(\"NB_EQUIP\").cumsum().alias(\"NB_EQUIP_SUM\"),\n",
        "        pl.when(pl.col(\"NB_EQUIP\") > 3).then(True).otherwise(False).alias(\"NB_EQUIP_3PLUS\")\n",
        "    ).head(5).collect()"
      ],
      "id": "2763862d-400d-471a-83c5-a6f046b2c5ad"
    },
    {
      "cell_type": "markdown",
      "metadata": {},
      "source": [
        "## Production de synthèses et d’agrégats\n",
        "\n",
        "On peut produire des statistiques synthétiques sur notre jeu de données\n",
        "avec la fonction `select`."
      ],
      "id": "e6d843e9-a19a-46e7-ac31-8acaa565f1a4"
    },
    {
      "cell_type": "code",
      "execution_count": 26,
      "metadata": {},
      "outputs": [
        {
          "output_type": "display_data",
          "metadata": {},
          "data": {
            "text/html": [
              "<div><style>\n",
              ".dataframe > thead > tr > th,\n",
              ".dataframe > tbody > tr > td {\n",
              "  text-align: right;\n",
              "}\n",
              "</style>\n",
              "<small>shape: (1, 1)</small><table border=\"1\" class=\"dataframe\"><thead><tr><th>NB_EQUIP_TOT</th></tr><tr><td>i64</td></tr></thead><tbody><tr><td>2399536</td></tr></tbody></table></div>"
            ]
          }
        }
      ],
      "source": [
        "df_bpe.lazy()\\\n",
        "    .with_columns(pl.col('NB_EQUIP').cast(pl.Int64, strict=False))\\\n",
        "    .select(\n",
        "        pl.col(\"NB_EQUIP\").sum().alias(\"NB_EQUIP_TOT\")\n",
        "    ).head(5).collect()"
      ],
      "id": "907ea0ca-fdaf-48f4-a419-bafb74204746"
    },
    {
      "cell_type": "markdown",
      "metadata": {},
      "source": [
        "Les fonctions `describe` et `glimpse` proposent un aperçu synthétique de\n",
        "la table:"
      ],
      "id": "f972b61c-02db-4db3-bcd1-0f3b0b1c7e82"
    },
    {
      "cell_type": "code",
      "execution_count": 27,
      "metadata": {},
      "outputs": [
        {
          "output_type": "display_data",
          "metadata": {},
          "data": {
            "text/html": [
              "<div><style>\n",
              ".dataframe > thead > tr > th,\n",
              ".dataframe > tbody > tr > td {\n",
              "  text-align: right;\n",
              "}\n",
              "</style>\n",
              "<small>shape: (7, 14)</small><table border=\"1\" class=\"dataframe\"><thead><tr><th>describe</th><th>AAV2020</th><th>AN</th><th>BV2012</th><th>DEP</th><th>DEPCOM</th><th>DOM</th><th>EPCI</th><th>DCIRIS</th><th>REG</th><th>SDOM</th><th>TYPEQU</th><th>UU2020</th><th>NB_EQUIP</th></tr><tr><td>str</td><td>str</td><td>str</td><td>str</td><td>str</td><td>str</td><td>str</td><td>str</td><td>str</td><td>str</td><td>str</td><td>str</td><td>str</td><td>str</td></tr></thead><tbody><tr><td>&quot;count&quot;</td><td>&quot;1056914&quot;</td><td>&quot;1056914&quot;</td><td>&quot;1056914&quot;</td><td>&quot;1056914&quot;</td><td>&quot;1056914&quot;</td><td>&quot;1056914&quot;</td><td>&quot;1056914&quot;</td><td>&quot;1056914&quot;</td><td>&quot;1056914&quot;</td><td>&quot;1056914&quot;</td><td>&quot;1056914&quot;</td><td>&quot;1056914&quot;</td><td>&quot;1056914&quot;</td></tr><tr><td>&quot;null_count&quot;</td><td>&quot;0&quot;</td><td>&quot;0&quot;</td><td>&quot;0&quot;</td><td>&quot;0&quot;</td><td>&quot;0&quot;</td><td>&quot;0&quot;</td><td>&quot;0&quot;</td><td>&quot;0&quot;</td><td>&quot;0&quot;</td><td>&quot;0&quot;</td><td>&quot;0&quot;</td><td>&quot;0&quot;</td><td>&quot;0&quot;</td></tr><tr><td>&quot;mean&quot;</td><td>null</td><td>null</td><td>null</td><td>null</td><td>null</td><td>null</td><td>null</td><td>null</td><td>null</td><td>null</td><td>null</td><td>null</td><td>null</td></tr><tr><td>&quot;std&quot;</td><td>null</td><td>null</td><td>null</td><td>null</td><td>null</td><td>null</td><td>null</td><td>null</td><td>null</td><td>null</td><td>null</td><td>null</td><td>null</td></tr><tr><td>&quot;min&quot;</td><td>&quot;001&quot;</td><td>&quot;2021&quot;</td><td>&quot;01004&quot;</td><td>&quot;01&quot;</td><td>&quot;01001&quot;</td><td>&quot;A&quot;</td><td>&quot;200000172&quot;</td><td>&quot;010010000&quot;</td><td>&quot;01&quot;</td><td>&quot;A1&quot;</td><td>&quot;A101&quot;</td><td>&quot;00151&quot;</td><td>&quot;1&quot;</td></tr><tr><td>&quot;max&quot;</td><td>&quot;SAR&quot;</td><td>&quot;2021&quot;</td><td>&quot;CSZ&quot;</td><td>&quot;976&quot;</td><td>&quot;97617&quot;</td><td>&quot;G&quot;</td><td>&quot;CSZ&quot;</td><td>&quot;97617_IND&quot;</td><td>&quot;94&quot;</td><td>&quot;G1&quot;</td><td>&quot;G104&quot;</td><td>&quot;CSZ&quot;</td><td>&quot;99&quot;</td></tr><tr><td>&quot;median&quot;</td><td>null</td><td>null</td><td>null</td><td>null</td><td>null</td><td>null</td><td>null</td><td>null</td><td>null</td><td>null</td><td>null</td><td>null</td><td>null</td></tr></tbody></table></div>"
            ]
          }
        }
      ],
      "source": [
        "df_bpe.describe()"
      ],
      "id": "93970add-5bcd-44f0-a419-8ad45ddb9a3a"
    },
    {
      "cell_type": "code",
      "execution_count": 28,
      "metadata": {},
      "outputs": [
        {
          "output_type": "stream",
          "name": "stdout",
          "text": [
            "Rows: 1056914\n",
            "Columns: 13\n",
            "$ AAV2020  <str> 524, 524, 524, 524, 524, 524, 524, 524, 524, 524\n",
            "$ AN       <str> 2021, 2021, 2021, 2021, 2021, 2021, 2021, 2021, 2021, 2021\n",
            "$ BV2012   <str> 01093, 01093, 01093, 01093, 01093, 01093, 01093, 01093, 01093, 01093\n",
            "$ DEP      <str> 01, 01, 01, 01, 01, 01, 01, 01, 01, 01\n",
            "$ DEPCOM   <str> 01001, 01001, 01001, 01001, 01001, 01001, 01001, 01001, 01001, 01001\n",
            "$ DOM      <str> A, A, A, A, A, A, A, A, B, C\n",
            "$ EPCI     <str> 200069193, 200069193, 200069193, 200069193, 200069193, 200069193, 200069193, 200069193, 200069193, 200069193\n",
            "$ DCIRIS   <str> 010010000, 010010000, 010010000, 010010000, 010010000, 010010000, 010010000, 010010000, 010010000, 010010000\n",
            "$ REG      <str> 84, 84, 84, 84, 84, 84, 84, 84, 84, 84\n",
            "$ SDOM     <str> A1, A4, A4, A4, A4, A5, A5, A5, B2, C1\n",
            "$ TYPEQU   <str> A129, A401, A402, A404, A405, A504, A505, A507, B203, C104\n",
            "$ UU2020   <str> CSZ, CSZ, CSZ, CSZ, CSZ, CSZ, CSZ, CSZ, CSZ, CSZ\n",
            "$ NB_EQUIP <str> 1, 2, 1, 2, 2, 1, 1, 2, 1, 1\n"
          ]
        }
      ],
      "source": [
        "df_bpe.glimpse()"
      ],
      "id": "4c994973-e6b1-4a74-b5e7-02720ad35585"
    },
    {
      "cell_type": "markdown",
      "metadata": {},
      "source": [
        "Les fonctions `groupby` et `agg` sont mobilisées pour créer des\n",
        "aggrégats. Dans l’exemple ci-dessous :\n",
        "\n",
        "1.  On précise que l’on veut grouper au niveau départemental\n",
        "    (`groupby(\"DEP\")`) ;\n",
        "2.  On somme les occurences d’équipement de type boulangerie\n",
        "    (`pl.col(\"TYPEQU\") == \"B203\").sum()`) ;\n",
        "3.  On donne un nom à la colonne portant la somme\n",
        "    (`alias(\"NB_BOULANGERIES_TOT\")`)"
      ],
      "id": "19c93823-531b-4acd-9109-348350639618"
    },
    {
      "cell_type": "code",
      "execution_count": 29,
      "metadata": {},
      "outputs": [
        {
          "output_type": "display_data",
          "metadata": {},
          "data": {
            "text/html": [
              "<div><style>\n",
              ".dataframe > thead > tr > th,\n",
              ".dataframe > tbody > tr > td {\n",
              "  text-align: right;\n",
              "}\n",
              "</style>\n",
              "<small>shape: (5, 2)</small><table border=\"1\" class=\"dataframe\"><thead><tr><th>DEP</th><th>NB_BOULANGERIES_TOT</th></tr><tr><td>str</td><td>u32</td></tr></thead><tbody><tr><td>&quot;75&quot;</td><td>731</td></tr><tr><td>&quot;59&quot;</td><td>731</td></tr><tr><td>&quot;13&quot;</td><td>576</td></tr><tr><td>&quot;69&quot;</td><td>507</td></tr><tr><td>&quot;62&quot;</td><td>440</td></tr></tbody></table></div>"
            ]
          }
        }
      ],
      "source": [
        "df_bpe.lazy().groupby(\"DEP\").agg(\n",
        "    (pl.col(\"TYPEQU\") == \"B203\").sum().alias(\"NB_BOULANGERIES_TOT\")\n",
        ").sort(\"NB_BOULANGERIES_TOT\", descending=True).head(5).collect()"
      ],
      "id": "6ad718f1-8b0f-4428-94cc-f109c673376e"
    },
    {
      "cell_type": "markdown",
      "metadata": {},
      "source": [
        "# Explorer le plan d’exécution\n",
        "\n",
        "Il peut être utile pour comprendre les opérations effectuées par\n",
        "`Polars` de jeter un oeil au plan d’exécution.\n",
        "\n",
        "Pour cela, il suffit pour cela de ne pas effectuer d’action comme\n",
        "`collect` ou `head`."
      ],
      "id": "ebdb90c4-09f1-4d56-bbdc-88c6893ba658"
    },
    {
      "cell_type": "code",
      "execution_count": 30,
      "metadata": {},
      "outputs": [
        {
          "output_type": "display_data",
          "metadata": {},
          "data": {
            "text/html": [
              "<i>naive plan: (run <b>LazyFrame.explain(optimized=True)</b> to see the optimized plan)</i>\n",
              "    <p></p>\n",
              "    <div> SELECT [col(\"NB_EQUIP\").sum().alias(\"NB_EQUIP_TOT\")] FROM<p></p>   WITH_COLUMNS:<p></p>   [col(\"NB_EQUIP\").cast(Int64)]<p></p>    DF [\"AAV2020\", \"AN\", \"BV2012\", \"DEP\"]; PROJECT */13 COLUMNS; SELECTION: \"None\"</div>"
            ]
          }
        }
      ],
      "source": [
        "df_bpe.lazy()\\\n",
        "    .with_columns(pl.col('NB_EQUIP').cast(pl.Int64, strict=False))\\\n",
        "    .select(\n",
        "        pl.col(\"NB_EQUIP\").sum().alias(\"NB_EQUIP_TOT\")\n",
        "    )"
      ],
      "id": "e075f5ec-f327-4d15-b67d-48d2b2b5de0c"
    },
    {
      "cell_type": "markdown",
      "metadata": {},
      "source": [
        "<div class=\"alert alert-info\" role=\"alert\">\n",
        "<h3 class=\"alert-heading\"><i class=\"fa-solid fa-comment\"></i> Note</h3>\n",
        "\n",
        "L’opération d’affichage du plan est ici instantanée puisqu’aucune action\n",
        "n’a été effectuée, seulement des transformations dont l’activation est\n",
        "retardée en attente d’une action n’ayant pas lieu.\n",
        "\n",
        "</div>"
      ],
      "id": "e15c7bea-4320-41b3-8a59-a9a0cf47ffcf"
    }
  ],
  "nbformat": 4,
  "nbformat_minor": 5,
  "metadata": {
    "kernelspec": {
      "name": "python3",
      "display_name": "Python 3 (ipykernel)",
      "language": "python"
    },
    "language_info": {
      "name": "python",
      "codemirror_mode": {
        "name": "ipython",
        "version": "3"
      },
      "file_extension": ".py",
      "mimetype": "text/x-python",
      "nbconvert_exporter": "python",
      "pygments_lexer": "ipython3",
      "version": "3.10.8"
    }
  }
}