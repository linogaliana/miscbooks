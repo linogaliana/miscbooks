{
 "cells": [
  {
   "cell_type": "markdown",
   "id": "f4707ed8-374e-427d-9c89-480bab5b2239",
   "metadata": {},
   "source": [
    "# Prise en main de Polars\n",
    "\n",
    "Polars est un package Python permettant de manipuler les données tabulaires à partir de différents types de fichiers (CSV, Parquet, etc.). Il est une alternative directe et moderne à Pandas. Pour en savoir plus, la lecture de cet article du blog sur le site du SSPHub. > TODO lien\n",
    "\n",
    "Pour bien débuter, on installe les packages nécessaires au fonctionnement de ce notebook et on importe toutes les fonctions à utiliser.\n"
   ]
  },
  {
   "cell_type": "code",
   "execution_count": null,
   "id": "29958692-7c39-4e4e-9bd5-ba76f8edf79a",
   "metadata": {
    "tags": []
   },
   "outputs": [],
   "source": [
    "!pip install polars pynsee[full] s3fs"
   ]
  },
  {
   "cell_type": "code",
   "execution_count": null,
   "id": "45458308-1a8a-45f0-b49b-f7b9ae0d8b16",
   "metadata": {
    "tags": []
   },
   "outputs": [],
   "source": [
    "import os\n",
    "import polars as pl\n",
    "import s3fs\n",
    "from pynsee.download import download_file"
   ]
  },
  {
   "cell_type": "markdown",
   "id": "1c7f6665-13c6-465c-9829-0a9994e076d0",
   "metadata": {},
   "source": [
    "# Lecture de données\n",
    "\n",
    "Les exemples fournis dans ce notebook utiliseront les données de la BPE (à l'instar du [module de découverte du tidyverse dans utilitr](https://www.book.utilitr.org/03_fiches_thematiques/fiche_tidyverse)).\n",
    "\n",
    "On exploite ici deux possibilités :\n",
    "1. charger les données via le module Python `pynsee`\n",
    "2. charger depuis le dossier `donnees-insee` du datalab TODO\n"
   ]
  },
  {
   "cell_type": "markdown",
   "id": "3f53c466-4ada-43bf-b76c-f33c5c491c5c",
   "metadata": {
    "tags": []
   },
   "source": [
    "## Via Pynsee"
   ]
  },
  {
   "cell_type": "code",
   "execution_count": null,
   "id": "6c996659-1aeb-4ea7-b50a-422525ce529b",
   "metadata": {
    "tags": []
   },
   "outputs": [],
   "source": [
    "pandas_df_bpe = download_file(\"BPE_ENS\") # pynsee renvoie un dataframe pandas\n",
    "df = pl.from_pandas(pandas_df_bpe)\n",
    "df.head(5)"
   ]
  },
  {
   "cell_type": "markdown",
   "id": "8fd58fc0-a8df-4163-b470-dba871be3657",
   "metadata": {},
   "source": [
    "## Via le stockage public du datalab"
   ]
  },
  {
   "cell_type": "code",
   "execution_count": null,
   "id": "fd1cb2b6-d3e0-4c51-994a-ca3ed7815b74",
   "metadata": {
    "tags": []
   },
   "outputs": [],
   "source": [
    "# WIP need to deal with types for parquet\n",
    "# Create filesystem object\n",
    "S3_ENDPOINT_URL = \"https://\" + os.environ[\"AWS_S3_ENDPOINT\"]\n",
    "fs = s3fs.S3FileSystem(client_kwargs={'endpoint_url': S3_ENDPOINT_URL})\n",
    "BUCKET = \"donnees-insee/diffusion/BPE/2019\"\n",
    "\n",
    "with fs.open(f\"{BUCKET}/BPE_ENS.csv\") as bpe_csv:\n",
    "    df_bpe = pl.read_csv(bpe_csv)\n",
    "    print(df_bpe.head())\n",
    "    #with fs.open(f\"{BUCKET}/BPE_ENS.parquet\", \"w\") as bpe_parquet:    \n",
    "    df_bpe.write_parquet(\"bpe.parquet\")"
   ]
  },
  {
   "cell_type": "code",
   "execution_count": 27,
   "id": "b7e87e5e-373c-4f85-a65b-9c9e5e48d498",
   "metadata": {
    "tags": []
   },
   "outputs": [],
   "source": [
    "df.write_parquet(\"bpe.parquet\")\n",
    "df_bpe = pl.read_parquet(\"bpe.parquet\")"
   ]
  },
  {
   "cell_type": "markdown",
   "id": "e0f27c8d-215c-4ba4-ae83-be45658cf79c",
   "metadata": {},
   "source": [
    "# Comment utiliser Polars ?\n",
    "\n",
    "A l'instar d'autres outils modernes d'exploitation des données, Polars expose un modèle de traitement basé sur des fonctions de haut niveau, comme `select`, `filter` ou `groupby`, qui empruntent au langage SQL une logique expressive du \"quoi ?\" plutôt que du \"comment ?\".\n",
    "\n",
    "Dans l'exemple qui suit, on commence par déclarer une exécution retardée (via `lazy()`) qui va permettre au moteur sous-jacent d'optimiser le traitement complet. Puis on exprime à l'aide des fonctions de haut niveau ce que l'on veut faire :\n",
    "1. filtrer le jeu de données pour ne garder les lignes pour lesquelles la colonne `TYPEQU` vaut `B316` (les stations-services)\n",
    "2. on regroupe au niveau département\n",
    "3. on compte le nombre d'occurrences pour chaque département via `agg`\n",
    "4. le dernier appel - `collect()` - indique que le traitement peut être lancé (et donc optimisé, parallelisé par Polars)."
   ]
  },
  {
   "cell_type": "code",
   "execution_count": 28,
   "id": "e8c3597d-4547-43c8-b69b-7084b4516c85",
   "metadata": {
    "tags": []
   },
   "outputs": [
    {
     "data": {
      "text/html": [
       "<div>\n",
       "<style>\n",
       ".pl-dataframe > thead > tr > th {\n",
       "  text-align: right;\n",
       "}\n",
       "</style>\n",
       "\n",
       "<table border=\"1\" class=\"dataframe pl-dataframe\">\n",
       "<small>shape: (5, 2)</small>\n",
       "<thead>\n",
       "<tr>\n",
       "<th>\n",
       "DEP\n",
       "</th>\n",
       "<th>\n",
       "NB_STATION_SERVICE\n",
       "</th>\n",
       "</tr>\n",
       "<tr>\n",
       "<td>\n",
       "str\n",
       "</td>\n",
       "<td>\n",
       "u32\n",
       "</td>\n",
       "</tr>\n",
       "</thead>\n",
       "<tbody>\n",
       "<tr>\n",
       "<td>\n",
       "&quot;34&quot;\n",
       "</td>\n",
       "<td>\n",
       "115\n",
       "</td>\n",
       "</tr>\n",
       "<tr>\n",
       "<td>\n",
       "&quot;69&quot;\n",
       "</td>\n",
       "<td>\n",
       "158\n",
       "</td>\n",
       "</tr>\n",
       "<tr>\n",
       "<td>\n",
       "&quot;48&quot;\n",
       "</td>\n",
       "<td>\n",
       "24\n",
       "</td>\n",
       "</tr>\n",
       "<tr>\n",
       "<td>\n",
       "&quot;44&quot;\n",
       "</td>\n",
       "<td>\n",
       "139\n",
       "</td>\n",
       "</tr>\n",
       "<tr>\n",
       "<td>\n",
       "&quot;79&quot;\n",
       "</td>\n",
       "<td>\n",
       "55\n",
       "</td>\n",
       "</tr>\n",
       "</tbody>\n",
       "</table>\n",
       "</div>"
      ],
      "text/plain": [
       "shape: (5, 2)\n",
       "┌─────┬────────────────────┐\n",
       "│ DEP ┆ NB_STATION_SERVICE │\n",
       "│ --- ┆ ---                │\n",
       "│ str ┆ u32                │\n",
       "╞═════╪════════════════════╡\n",
       "│ 34  ┆ 115                │\n",
       "│ 69  ┆ 158                │\n",
       "│ 48  ┆ 24                 │\n",
       "│ 44  ┆ 139                │\n",
       "│ 79  ┆ 55                 │\n",
       "└─────┴────────────────────┘"
      ]
     },
     "execution_count": 28,
     "metadata": {},
     "output_type": "execute_result"
    }
   ],
   "source": [
    "df_stations_service = df_bpe.lazy().filter( # 1.\n",
    "    pl.col(\"TYPEQU\") == \"B316\"\n",
    ").groupby( # 2.\n",
    "    \"DEP\"\n",
    ").agg( # 3.\n",
    "    pl.count().alias(\"NB_STATION_SERVICE\")\n",
    ").collect() # 4.\n",
    "\n",
    "df_stations_service.head(5)"
   ]
  },
  {
   "cell_type": "markdown",
   "id": "f819f7a9-ea6e-45d7-9f23-cbd26c4f9668",
   "metadata": {
    "tags": []
   },
   "source": [
    "## Sélection de données\n",
    "\n",
    "Deux types de sélections sont possibles :\n",
    "1. par colonnes, avec `select`\n",
    "2. par lignes, avec `filter`\n",
    "\n",
    "\n",
    "### Sélection de colonnes\n",
    "\n",
    "Commençons par sélectionner des colonnes en utilisant leurs noms :"
   ]
  },
  {
   "cell_type": "code",
   "execution_count": 30,
   "id": "b1c8f052-81a7-4806-8be1-1208cb3afcd0",
   "metadata": {
    "tags": []
   },
   "outputs": [
    {
     "data": {
      "text/html": [
       "<div>\n",
       "<style>\n",
       ".pl-dataframe > thead > tr > th {\n",
       "  text-align: right;\n",
       "}\n",
       "</style>\n",
       "\n",
       "<table border=\"1\" class=\"dataframe pl-dataframe\">\n",
       "<small>shape: (5, 3)</small>\n",
       "<thead>\n",
       "<tr>\n",
       "<th>\n",
       "DEPCOM\n",
       "</th>\n",
       "<th>\n",
       "TYPEQU\n",
       "</th>\n",
       "<th>\n",
       "NB_EQUIP\n",
       "</th>\n",
       "</tr>\n",
       "<tr>\n",
       "<td>\n",
       "str\n",
       "</td>\n",
       "<td>\n",
       "str\n",
       "</td>\n",
       "<td>\n",
       "str\n",
       "</td>\n",
       "</tr>\n",
       "</thead>\n",
       "<tbody>\n",
       "<tr>\n",
       "<td>\n",
       "&quot;01001&quot;\n",
       "</td>\n",
       "<td>\n",
       "&quot;A129&quot;\n",
       "</td>\n",
       "<td>\n",
       "&quot;1&quot;\n",
       "</td>\n",
       "</tr>\n",
       "<tr>\n",
       "<td>\n",
       "&quot;01001&quot;\n",
       "</td>\n",
       "<td>\n",
       "&quot;A401&quot;\n",
       "</td>\n",
       "<td>\n",
       "&quot;2&quot;\n",
       "</td>\n",
       "</tr>\n",
       "<tr>\n",
       "<td>\n",
       "&quot;01001&quot;\n",
       "</td>\n",
       "<td>\n",
       "&quot;A402&quot;\n",
       "</td>\n",
       "<td>\n",
       "&quot;1&quot;\n",
       "</td>\n",
       "</tr>\n",
       "<tr>\n",
       "<td>\n",
       "&quot;01001&quot;\n",
       "</td>\n",
       "<td>\n",
       "&quot;A404&quot;\n",
       "</td>\n",
       "<td>\n",
       "&quot;2&quot;\n",
       "</td>\n",
       "</tr>\n",
       "<tr>\n",
       "<td>\n",
       "&quot;01001&quot;\n",
       "</td>\n",
       "<td>\n",
       "&quot;A405&quot;\n",
       "</td>\n",
       "<td>\n",
       "&quot;2&quot;\n",
       "</td>\n",
       "</tr>\n",
       "</tbody>\n",
       "</table>\n",
       "</div>"
      ],
      "text/plain": [
       "shape: (5, 3)\n",
       "┌────────┬────────┬──────────┐\n",
       "│ DEPCOM ┆ TYPEQU ┆ NB_EQUIP │\n",
       "│ ---    ┆ ---    ┆ ---      │\n",
       "│ str    ┆ str    ┆ str      │\n",
       "╞════════╪════════╪══════════╡\n",
       "│ 01001  ┆ A129   ┆ 1        │\n",
       "│ 01001  ┆ A401   ┆ 2        │\n",
       "│ 01001  ┆ A402   ┆ 1        │\n",
       "│ 01001  ┆ A404   ┆ 2        │\n",
       "│ 01001  ┆ A405   ┆ 2        │\n",
       "└────────┴────────┴──────────┘"
      ]
     },
     "execution_count": 30,
     "metadata": {},
     "output_type": "execute_result"
    }
   ],
   "source": [
    "df_bpe.select(\n",
    "    [\"DEPCOM\", \"TYPEQU\", \"NB_EQUIP\"]\n",
    ").head(5)"
   ]
  },
  {
   "cell_type": "markdown",
   "id": "3700ae52-c363-44a4-8b96-df6365350645",
   "metadata": {},
   "source": [
    "Puis en utilisant leurs positions :"
   ]
  },
  {
   "cell_type": "code",
   "execution_count": 31,
   "id": "bba7fca8-4b88-47d1-8198-f35f296d4b99",
   "metadata": {
    "tags": []
   },
   "outputs": [
    {
     "data": {
      "text/html": [
       "<div>\n",
       "<style>\n",
       ".pl-dataframe > thead > tr > th {\n",
       "  text-align: right;\n",
       "}\n",
       "</style>\n",
       "\n",
       "<table border=\"1\" class=\"dataframe pl-dataframe\">\n",
       "<small>shape: (5, 4)</small>\n",
       "<thead>\n",
       "<tr>\n",
       "<th>\n",
       "AN\n",
       "</th>\n",
       "<th>\n",
       "BV2012\n",
       "</th>\n",
       "<th>\n",
       "DEP\n",
       "</th>\n",
       "<th>\n",
       "DEPCOM\n",
       "</th>\n",
       "</tr>\n",
       "<tr>\n",
       "<td>\n",
       "str\n",
       "</td>\n",
       "<td>\n",
       "str\n",
       "</td>\n",
       "<td>\n",
       "str\n",
       "</td>\n",
       "<td>\n",
       "str\n",
       "</td>\n",
       "</tr>\n",
       "</thead>\n",
       "<tbody>\n",
       "<tr>\n",
       "<td>\n",
       "&quot;2021&quot;\n",
       "</td>\n",
       "<td>\n",
       "&quot;01093&quot;\n",
       "</td>\n",
       "<td>\n",
       "&quot;01&quot;\n",
       "</td>\n",
       "<td>\n",
       "&quot;01001&quot;\n",
       "</td>\n",
       "</tr>\n",
       "<tr>\n",
       "<td>\n",
       "&quot;2021&quot;\n",
       "</td>\n",
       "<td>\n",
       "&quot;01093&quot;\n",
       "</td>\n",
       "<td>\n",
       "&quot;01&quot;\n",
       "</td>\n",
       "<td>\n",
       "&quot;01001&quot;\n",
       "</td>\n",
       "</tr>\n",
       "<tr>\n",
       "<td>\n",
       "&quot;2021&quot;\n",
       "</td>\n",
       "<td>\n",
       "&quot;01093&quot;\n",
       "</td>\n",
       "<td>\n",
       "&quot;01&quot;\n",
       "</td>\n",
       "<td>\n",
       "&quot;01001&quot;\n",
       "</td>\n",
       "</tr>\n",
       "<tr>\n",
       "<td>\n",
       "&quot;2021&quot;\n",
       "</td>\n",
       "<td>\n",
       "&quot;01093&quot;\n",
       "</td>\n",
       "<td>\n",
       "&quot;01&quot;\n",
       "</td>\n",
       "<td>\n",
       "&quot;01001&quot;\n",
       "</td>\n",
       "</tr>\n",
       "<tr>\n",
       "<td>\n",
       "&quot;2021&quot;\n",
       "</td>\n",
       "<td>\n",
       "&quot;01093&quot;\n",
       "</td>\n",
       "<td>\n",
       "&quot;01&quot;\n",
       "</td>\n",
       "<td>\n",
       "&quot;01001&quot;\n",
       "</td>\n",
       "</tr>\n",
       "</tbody>\n",
       "</table>\n",
       "</div>"
      ],
      "text/plain": [
       "shape: (5, 4)\n",
       "┌──────┬────────┬─────┬────────┐\n",
       "│ AN   ┆ BV2012 ┆ DEP ┆ DEPCOM │\n",
       "│ ---  ┆ ---    ┆ --- ┆ ---    │\n",
       "│ str  ┆ str    ┆ str ┆ str    │\n",
       "╞══════╪════════╪═════╪════════╡\n",
       "│ 2021 ┆ 01093  ┆ 01  ┆ 01001  │\n",
       "│ 2021 ┆ 01093  ┆ 01  ┆ 01001  │\n",
       "│ 2021 ┆ 01093  ┆ 01  ┆ 01001  │\n",
       "│ 2021 ┆ 01093  ┆ 01  ┆ 01001  │\n",
       "│ 2021 ┆ 01093  ┆ 01  ┆ 01001  │\n",
       "└──────┴────────┴─────┴────────┘"
      ]
     },
     "execution_count": 31,
     "metadata": {},
     "output_type": "execute_result"
    }
   ],
   "source": [
    "df_bpe[:, 1:5].head(5)"
   ]
  },
  {
   "cell_type": "markdown",
   "id": "c2b91608-f5fd-46a9-903a-f8f64b76a6da",
   "metadata": {},
   "source": [
    "On peut également s'appuyer sur des motifs de sélection des noms de colonnes mobilisant des expressions régulières (ici `^DEP.*$` signifiant \"débute par DEP\"):"
   ]
  },
  {
   "cell_type": "code",
   "execution_count": 39,
   "id": "56f6558f-b10a-400c-92e6-93e0936bc782",
   "metadata": {
    "tags": []
   },
   "outputs": [
    {
     "data": {
      "text/html": [
       "<div>\n",
       "<style>\n",
       ".pl-dataframe > thead > tr > th {\n",
       "  text-align: right;\n",
       "}\n",
       "</style>\n",
       "\n",
       "<table border=\"1\" class=\"dataframe pl-dataframe\">\n",
       "<small>shape: (5, 2)</small>\n",
       "<thead>\n",
       "<tr>\n",
       "<th>\n",
       "DEP\n",
       "</th>\n",
       "<th>\n",
       "DEPCOM\n",
       "</th>\n",
       "</tr>\n",
       "<tr>\n",
       "<td>\n",
       "str\n",
       "</td>\n",
       "<td>\n",
       "str\n",
       "</td>\n",
       "</tr>\n",
       "</thead>\n",
       "<tbody>\n",
       "<tr>\n",
       "<td>\n",
       "&quot;01&quot;\n",
       "</td>\n",
       "<td>\n",
       "&quot;01001&quot;\n",
       "</td>\n",
       "</tr>\n",
       "<tr>\n",
       "<td>\n",
       "&quot;01&quot;\n",
       "</td>\n",
       "<td>\n",
       "&quot;01001&quot;\n",
       "</td>\n",
       "</tr>\n",
       "<tr>\n",
       "<td>\n",
       "&quot;01&quot;\n",
       "</td>\n",
       "<td>\n",
       "&quot;01001&quot;\n",
       "</td>\n",
       "</tr>\n",
       "<tr>\n",
       "<td>\n",
       "&quot;01&quot;\n",
       "</td>\n",
       "<td>\n",
       "&quot;01001&quot;\n",
       "</td>\n",
       "</tr>\n",
       "<tr>\n",
       "<td>\n",
       "&quot;01&quot;\n",
       "</td>\n",
       "<td>\n",
       "&quot;01001&quot;\n",
       "</td>\n",
       "</tr>\n",
       "</tbody>\n",
       "</table>\n",
       "</div>"
      ],
      "text/plain": [
       "shape: (5, 2)\n",
       "┌─────┬────────┐\n",
       "│ DEP ┆ DEPCOM │\n",
       "│ --- ┆ ---    │\n",
       "│ str ┆ str    │\n",
       "╞═════╪════════╡\n",
       "│ 01  ┆ 01001  │\n",
       "│ 01  ┆ 01001  │\n",
       "│ 01  ┆ 01001  │\n",
       "│ 01  ┆ 01001  │\n",
       "│ 01  ┆ 01001  │\n",
       "└─────┴────────┘"
      ]
     },
     "execution_count": 39,
     "metadata": {},
     "output_type": "execute_result"
    }
   ],
   "source": [
    "df_bpe.select(\n",
    "    pl.col(\"^DEP.*$\")\n",
    ").head(5)"
   ]
  },
  {
   "cell_type": "markdown",
   "id": "4af46896-2400-4ad9-a305-1f7c4c7fb55a",
   "metadata": {},
   "source": [
    "La fonction `select` acceptant des `list` Python, on peut construire des sélecteurs assez puissants :"
   ]
  },
  {
   "cell_type": "code",
   "execution_count": 44,
   "id": "d00e227f-32a8-46ac-8453-0baf6925d65e",
   "metadata": {
    "tags": []
   },
   "outputs": [
    {
     "data": {
      "text/html": [
       "<div>\n",
       "<style>\n",
       ".pl-dataframe > thead > tr > th {\n",
       "  text-align: right;\n",
       "}\n",
       "</style>\n",
       "\n",
       "<table border=\"1\" class=\"dataframe pl-dataframe\">\n",
       "<small>shape: (5, 2)</small>\n",
       "<thead>\n",
       "<tr>\n",
       "<th>\n",
       "DEP\n",
       "</th>\n",
       "<th>\n",
       "DEPCOM\n",
       "</th>\n",
       "</tr>\n",
       "<tr>\n",
       "<td>\n",
       "str\n",
       "</td>\n",
       "<td>\n",
       "str\n",
       "</td>\n",
       "</tr>\n",
       "</thead>\n",
       "<tbody>\n",
       "<tr>\n",
       "<td>\n",
       "&quot;01&quot;\n",
       "</td>\n",
       "<td>\n",
       "&quot;01001&quot;\n",
       "</td>\n",
       "</tr>\n",
       "<tr>\n",
       "<td>\n",
       "&quot;01&quot;\n",
       "</td>\n",
       "<td>\n",
       "&quot;01001&quot;\n",
       "</td>\n",
       "</tr>\n",
       "<tr>\n",
       "<td>\n",
       "&quot;01&quot;\n",
       "</td>\n",
       "<td>\n",
       "&quot;01001&quot;\n",
       "</td>\n",
       "</tr>\n",
       "<tr>\n",
       "<td>\n",
       "&quot;01&quot;\n",
       "</td>\n",
       "<td>\n",
       "&quot;01001&quot;\n",
       "</td>\n",
       "</tr>\n",
       "<tr>\n",
       "<td>\n",
       "&quot;01&quot;\n",
       "</td>\n",
       "<td>\n",
       "&quot;01001&quot;\n",
       "</td>\n",
       "</tr>\n",
       "</tbody>\n",
       "</table>\n",
       "</div>"
      ],
      "text/plain": [
       "shape: (5, 2)\n",
       "┌─────┬────────┐\n",
       "│ DEP ┆ DEPCOM │\n",
       "│ --- ┆ ---    │\n",
       "│ str ┆ str    │\n",
       "╞═════╪════════╡\n",
       "│ 01  ┆ 01001  │\n",
       "│ 01  ┆ 01001  │\n",
       "│ 01  ┆ 01001  │\n",
       "│ 01  ┆ 01001  │\n",
       "│ 01  ┆ 01001  │\n",
       "└─────┴────────┘"
      ]
     },
     "execution_count": 44,
     "metadata": {},
     "output_type": "execute_result"
    }
   ],
   "source": [
    "dep_cols = [cols for cols in df_bpe.columns if cols.startswith(\"DEP\")] \n",
    "\n",
    "df_bpe.select(dep_cols).head(5)"
   ]
  },
  {
   "cell_type": "markdown",
   "id": "7b111bdb-b0f0-4848-bd4d-f40fadeedad4",
   "metadata": {},
   "source": [
    "### Sélection de lignes\n",
    "\n",
    "TODO"
   ]
  },
  {
   "cell_type": "code",
   "execution_count": null,
   "id": "5d80fe1b-ba09-4f3a-bb49-fcf63430d782",
   "metadata": {},
   "outputs": [],
   "source": [
    "## Renommage de variables\n",
    "\n"
   ]
  }
 ],
 "metadata": {
  "kernelspec": {
   "display_name": "Python 3 (ipykernel)",
   "language": "python",
   "name": "python3"
  },
  "language_info": {
   "codemirror_mode": {
    "name": "ipython",
    "version": 3
   },
   "file_extension": ".py",
   "mimetype": "text/x-python",
   "name": "python",
   "nbconvert_exporter": "python",
   "pygments_lexer": "ipython3",
   "version": "3.10.8"
  }
 },
 "nbformat": 4,
 "nbformat_minor": 5
}
