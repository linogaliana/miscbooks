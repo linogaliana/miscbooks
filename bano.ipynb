{
 "cells": [
  {
   "cell_type": "code",
   "execution_count": 4,
   "id": "4f362018-f7fd-470b-8041-05b8893f3f20",
   "metadata": {},
   "outputs": [
    {
     "name": "stderr",
     "output_type": "stream",
     "text": [
      "/tmp/ipykernel_168/2122563371.py:8: DtypeWarning: Columns (3) have mixed types. Specify dtype option on import or set low_memory=False.\n",
      "  df = pd.read_csv(full_bano, compression=\"gzip\")\n"
     ]
    },
    {
     "data": {
      "text/plain": [
       "<bound method NDFrame.head of            010010005Y-103   103  Impasse des Acacias  01400  \\\n",
       "0          010010005Y-104   104  Impasse des Acacias  01400   \n",
       "1           010010005Y-26    26  Impasse des Acacias  01400   \n",
       "2           010010005Y-30    30  Impasse des Acacias  01400   \n",
       "3           010010005Y-59    59  Impasse des Acacias  01400   \n",
       "4           010010005Y-64    64  Impasse des Acacias  01400   \n",
       "...                   ...   ...                  ...    ...   \n",
       "23394332  97617B130M-4520  4520              Combani  97680   \n",
       "23394333  97617B490D-4001  4001              Mandani  97680   \n",
       "23394334  97617B700G-4001  4001             Tsingoni  97680   \n",
       "23394335  97617B740A-4504  4504  Village de Tsingoni  97680   \n",
       "23394336  97617B740A-4506  4506  Village de Tsingoni  97680   \n",
       "\n",
       "          L'Abergement-Clémenciat  C+O  46.147624   4.923727  \n",
       "0         L'Abergement-Clémenciat  C+O  46.147812   4.924310  \n",
       "1         L'Abergement-Clémenciat  C+O  46.146756   4.924307  \n",
       "2         L'Abergement-Clémenciat  C+O  46.146907   4.924547  \n",
       "3         L'Abergement-Clémenciat  C+O  46.147154   4.924191  \n",
       "4         L'Abergement-Clémenciat  C+O  46.147307   4.924624  \n",
       "...                           ...  ...        ...        ...  \n",
       "23394332                 Tsingoni  CAD -12.785840  45.137339  \n",
       "23394333                 Tsingoni  CAD -12.783318  45.140657  \n",
       "23394334                 Tsingoni  CAD -12.790463  45.105361  \n",
       "23394335                 Tsingoni  CAD -12.790557  45.137112  \n",
       "23394336                 Tsingoni  CAD -12.789817  45.132364  \n",
       "\n",
       "[23394337 rows x 8 columns]>"
      ]
     },
     "execution_count": 4,
     "metadata": {},
     "output_type": "execute_result"
    }
   ],
   "source": [
    "import pandas as pd\n",
    "\n",
    "bano_1 = \"https://bano.openstreetmap.fr/data/bano-01.csv\"\n",
    "full_bano = \"https://bano.openstreetmap.fr/data/full.csv.gz\"\n",
    "\n",
    "df = pd.read_csv(full_bano, compression=\"gzip\")\n",
    "\n",
    "df.head"
   ]
  },
  {
   "cell_type": "code",
   "execution_count": 8,
   "id": "68daf914-807f-41dc-a15c-366f2e2b38ab",
   "metadata": {},
   "outputs": [
    {
     "data": {
      "text/plain": [
       "Index(['ID', 'NUMERO', 'VOIE', 'CODE_POST', 'NOM_COMM', 'SOURCE', 'LAT',\n",
       "       'LON'],\n",
       "      dtype='object')"
      ]
     },
     "execution_count": 8,
     "metadata": {},
     "output_type": "execute_result"
    }
   ],
   "source": [
    "# Adding missing columns\n",
    "cols = [\"id\", \"numero\", \"voie\", \"code_post\", \"nom_comm\", \"source\",\"lat\", \"lon\"]\n",
    "cols = [col.upper() for col in cols]\n",
    "\n",
    "df.columns = cols\n",
    "df.columns"
   ]
  },
  {
   "cell_type": "code",
   "execution_count": 14,
   "id": "b7bb6984-7216-413a-8051-eb3dfd512de3",
   "metadata": {},
   "outputs": [
    {
     "data": {
      "text/plain": [
       "{'Artigueres',\n",
       " 'Avenue du Rouyre',\n",
       " 'Chemin de Mounégous',\n",
       " 'Cite de Sausils',\n",
       " 'Couloumié',\n",
       " 'Etang de Larnoum',\n",
       " 'Impasse Del Mouli',\n",
       " 'Impasse de Bernudel',\n",
       " 'Impasse de Lareglat',\n",
       " 'Impasse de Tinraou',\n",
       " 'Impasse de la Coume',\n",
       " 'Impasse de la Fallière',\n",
       " 'Impasse du Tournal',\n",
       " 'Jasse des Abajous et Autre',\n",
       " 'La Coume',\n",
       " 'La Garrigue',\n",
       " 'La Roque du Pre de Riete',\n",
       " 'Labail',\n",
       " 'Las Campagnes',\n",
       " 'Le Village',\n",
       " 'Les Andes',\n",
       " 'Les Gesquis',\n",
       " 'Mounegou',\n",
       " 'Pet de Ser',\n",
       " 'Place de la Paichère',\n",
       " 'Place del Faouré',\n",
       " 'Place du Caoulet',\n",
       " 'Place du Roussel',\n",
       " 'Qrt Balledreit et Autres',\n",
       " 'Quartier de Muna',\n",
       " 'Quartier de la Pujole',\n",
       " 'Quartier du Gradudat',\n",
       " 'Quartier les Gesquis',\n",
       " 'Route de Las Campagnos',\n",
       " 'Route de las Valléios',\n",
       " \"Rue d'Artiguères\",\n",
       " 'Rue de Bébé',\n",
       " 'Rue de Caoulet',\n",
       " 'Rue de Courtes',\n",
       " 'Rue de Gouric',\n",
       " 'Rue de Muna',\n",
       " 'Rue de Rousselhot',\n",
       " \"Rue de l'Église\",\n",
       " 'Rue des Andes',\n",
       " 'Rue des Jardins',\n",
       " 'Rue du Campagnie',\n",
       " 'Rue du Carayet',\n",
       " 'Rue du Cayret',\n",
       " 'Rue du Couloumié',\n",
       " 'Rue du Gradudat',\n",
       " 'Rue du Roussel',\n",
       " 'Terre Negre'}"
      ]
     },
     "execution_count": 14,
     "metadata": {},
     "output_type": "execute_result"
    }
   ],
   "source": [
    "df_aston = df[df[\"NOM_COMM\"] == \"Aston\"]\n",
    "voies = df_aston[\"VOIE\"]\n",
    "set(voies)"
   ]
  }
 ],
 "metadata": {
  "kernelspec": {
   "display_name": "Python 3 (ipykernel)",
   "language": "python",
   "name": "python3"
  },
  "language_info": {
   "codemirror_mode": {
    "name": "ipython",
    "version": 3
   },
   "file_extension": ".py",
   "mimetype": "text/x-python",
   "name": "python",
   "nbconvert_exporter": "python",
   "pygments_lexer": "ipython3",
   "version": "3.9.12"
  }
 },
 "nbformat": 4,
 "nbformat_minor": 5
}
